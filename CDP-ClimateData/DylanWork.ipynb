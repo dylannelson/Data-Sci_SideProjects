{
 "cells": [
  {
   "cell_type": "code",
   "execution_count": 1,
   "id": "marked-catalyst",
   "metadata": {},
   "outputs": [],
   "source": [
    "import pandas as pd"
   ]
  },
  {
   "cell_type": "code",
   "execution_count": 2,
   "id": "steady-seven",
   "metadata": {},
   "outputs": [],
   "source": [
    "#Disclosed City Data\n",
    "cities_disc = {2018:\"Cities/Cities Disclosing/2018_Cities_Disclosing_to_CDP.csv\",\n",
    "               2019:\"Cities/Cities Disclosing/2019_Cities_Disclosing_to_CDP.csv\",\n",
    "               2020:\"Cities/Cities Disclosing/2020_Cities_Disclosing_to_CDP.csv\"}\n",
    "#Response City Data\n",
    "cities_resp =  {2018:\"Cities/Cities Responses/2018_Full_Cities_Dataset.csv\",\n",
    "                2019:\"Cities/Cities Responses/2019_Full_Cities_Dataset.csv\",\n",
    "                2020:\"Cities/Cities Responses/2020_Full_Cities_Dataset.csv\"}\n",
    "#Disclosed Corp Data\n",
    "corp_disc_water = {2018:\"Corporations/Corporations Disclosing/2018_Corporates_Disclosing_to_CDP_Water_Security.csv\",\n",
    "                   2019:\"Corporations/Corporations Disclosing/2019_Corporates_Disclosing_to_CDP_Water_Security.csv\",\n",
    "                   2020:\"Corporations/Corporations Disclosing/2020_Corporates_Disclosing_to_CDP_Water_Security.csv\"}\n",
    "corp_disc_climate = {2018:\"Corporations/Corporations Disclosing/Climate Change/2018_Corporates_Disclosing_to_CDP_Climate_Change.csv\",\n",
    "                     2019:\"Corporations/Corporations Disclosing/Climate Change/2019_Corporates_Disclosing_to_CDP_Climate_Change.csv\",\n",
    "                     2020:\"Corporations/Corporations Disclosing/Climate Change/2020_Corporates_Disclosing_to_CDP_Climate_Change.csv\"}\n",
    "#Response Corp Data\n",
    "corp_resp_water = {2018:\"Corporations/Corporations Responses/Water Security/2018_Full_Water_Security_Dataset.csv\",\n",
    "                   2019:\"Corporations/Corporations Responses/Water Security/2019_Full_Water_Security_Dataset.csv\",\n",
    "                   2020:\"Corporations/Corporations Responses/Water Security/2020_Full_Water_Security_Dataset.csv\"}\n",
    "corp_resp_climate = {2018:\"Corporations/Corporations Responses/Climate Change/2018_Full_Climate_Change_Dataset.csv\",\n",
    "                     2019:\"Corporations/Corporations Responses/Climate Change/2019_Full_Climate_Change_Dataset.csv\",\n",
    "                     2020:\"Corporations/Corporations Responses/Climate Change/2020_Full_Climate_Change_Dataset.csv\"}"
   ]
  },
  {
   "cell_type": "markdown",
   "id": "brilliant-madison",
   "metadata": {},
   "source": [
    "## Top 30 Countries we could focus on"
   ]
  },
  {
   "cell_type": "code",
   "execution_count": 3,
   "id": "arctic-momentum",
   "metadata": {},
   "outputs": [
    {
     "name": "stdout",
     "output_type": "stream",
     "text": [
      "United States of America                                226861\n",
      "Brazil                                                   90308\n",
      "Canada                                                   47467\n",
      "United Kingdom of Great Britain and Northern Ireland     39111\n",
      "Mexico                                                   39052\n",
      "Portugal                                                 28289\n",
      "Argentina                                                23229\n",
      "Italy                                                    23101\n",
      "Colombia                                                 23079\n",
      "Denmark                                                  20697\n",
      "Peru                                                     19779\n",
      "Australia                                                18675\n",
      "Costa Rica                                               16061\n",
      "Sweden                                                   15570\n",
      "South Africa                                             14806\n",
      "Indonesia                                                14432\n",
      "Taiwan, Greater China                                    14245\n",
      "Turkey                                                   12736\n",
      "Philippines                                              12202\n",
      "Republic of Korea                                        11941\n",
      "Finland                                                  10073\n",
      "Chile                                                     9856\n",
      "Netherlands                                               7905\n",
      "France                                                    7004\n",
      "Spain                                                     6793\n",
      "China                                                     6411\n",
      "New Zealand                                               5950\n",
      "Norway                                                    5532\n",
      "Guatemala                                                 5239\n",
      "Ecuador                                                   4700\n",
      "Name: Country, dtype: int64\n"
     ]
    }
   ],
   "source": [
    "with pd.option_context('display.max_rows', None, 'display.max_columns', None): \n",
    "    print(pd.read_csv(cities_resp[2020])['Country'].value_counts()[:30])\n"
   ]
  },
  {
   "cell_type": "code",
   "execution_count": 109,
   "id": "flush-crisis",
   "metadata": {},
   "outputs": [
    {
     "data": {
      "text/plain": [
       "Questionnaire                0\n",
       "Year Reported to CDP         0\n",
       "Account Number               0\n",
       "Organization                 0\n",
       "Country                      0\n",
       "CDP Region                   0\n",
       "Parent Section          205345\n",
       "Section                      0\n",
       "Question Number              0\n",
       "Question Name                0\n",
       "Column Number                0\n",
       "Column Name              28719\n",
       "Row Number                   0\n",
       "Row Name                464481\n",
       "Response Answer         166288\n",
       "Comments                849190\n",
       "File Name               867527\n",
       "Last update                  0\n",
       "dtype: int64"
      ]
     },
     "execution_count": 109,
     "metadata": {},
     "output_type": "execute_result"
    }
   ],
   "source": [
    "pd.read_csv(cities_resp[2020]).isna().sum()"
   ]
  },
  {
   "cell_type": "markdown",
   "id": "senior-grass",
   "metadata": {},
   "source": [
    "## Chosing US, Brazil, and UK currently so we have one from 3 different contients with a large amount of data each"
   ]
  },
  {
   "cell_type": "code",
   "execution_count": 4,
   "id": "molecular-pearl",
   "metadata": {},
   "outputs": [
    {
     "name": "stdout",
     "output_type": "stream",
     "text": [
      "original shape (869313, 18)\n",
      "new shape (356280, 18)\n"
     ]
    }
   ],
   "source": [
    "chosen_countries = {\"United States of America\", \"Brazil\", \"United Kingdom of Great Britain and Northern Ireland\"}\n",
    "\n",
    "three_count = pd.read_csv(cities_resp[2020])\n",
    "print(\"original shape\",three_count.shape)\n",
    "three_count = three_count[three_count.apply(lambda x: True if x['Country'] in chosen_countries else False, axis = 1)]\n",
    "print(\"new shape\",three_count.shape)"
   ]
  },
  {
   "cell_type": "markdown",
   "id": "fitting-bracelet",
   "metadata": {},
   "source": [
    "## Possible independent Variables\n",
    "Qualifications: \n",
    "1. In the \"CDP Reccomended Questions to focus on\" Dataset  \n",
    "2. Able to be one-hot encoded\n",
    "2. Have a reasonable amount of responses  \n",
    "\n",
    "The following 5 match this, but we need to make sure there is a a fair amount of responses\n",
    "\n",
    "\n",
    "**Q1 (C1.0)**\n",
    "- Does your city incorporate sustainability goals and targets (e.g. GHG reductions) into the master planning for the city?  \n",
    "\n",
    "**Q2 (C2.0)**  \n",
    "- Has a climate change risk or vulnerability assessment been undertaken for the city area?\n",
    "\n",
    "**Q3 (C4.0)**  \n",
    "- Does your city have a city-wide emissions inventory to report?\n",
    "\n",
    "**Q4 (C5.0)**  \n",
    "- Do you have a GHG emissions reduction target in place at the city-wide level?\n",
    "\n",
    "**Q5 (C8.0)**  \n",
    "- Does your city have a renewable energy or electricity target?"
   ]
  },
  {
   "cell_type": "markdown",
   "id": "viral-sodium",
   "metadata": {},
   "source": [
    "## Revisions\n",
    "After checking all the questions' data, they match the needs we have, except for Q4 (C5.0), it SEEMED like a Y/N question, but it wasn't, and it wasn't on a scale that could be reasonably one hot encoded"
   ]
  },
  {
   "cell_type": "code",
   "execution_count": 5,
   "id": "after-trunk",
   "metadata": {},
   "outputs": [
    {
     "data": {
      "text/plain": [
       "356280"
      ]
     },
     "execution_count": 5,
     "metadata": {},
     "output_type": "execute_result"
    }
   ],
   "source": [
    "len(three_count['Country'])"
   ]
  },
  {
   "cell_type": "code",
   "execution_count": 6,
   "id": "general-insulation",
   "metadata": {},
   "outputs": [
    {
     "name": "stdout",
     "output_type": "stream",
     "text": [
      "\n",
      "Year:  2018 -------------------------------------------------------------------\n",
      "df length for Q 1.0 :  206\n",
      "   -Total Yes for  Brazil :  0 --- Proportion = 0.0\n",
      "   -Total Yes for  United States of America :  0 --- Proportion = 0.0\n",
      "   -Total Yes for  United Kingdom of Great Britain and Northern Ireland :  0 --- Proportion = 0.0\n",
      "df length for Q 2.0 :  210\n",
      "   -Total Yes for  Brazil :  14 --- Proportion = 0.21212121212121213\n",
      "   -Total Yes for  United States of America :  67 --- Proportion = 0.49264705882352944\n",
      "   -Total Yes for  United Kingdom of Great Britain and Northern Ireland :  7 --- Proportion = 0.875\n",
      "df length for Q 4.0 :  206\n",
      "   -Total Yes for  Brazil :  41 --- Proportion = 0.640625\n",
      "   -Total Yes for  United States of America :  112 --- Proportion = 0.8296296296296296\n",
      "   -Total Yes for  United Kingdom of Great Britain and Northern Ireland :  5 --- Proportion = 0.7142857142857143\n",
      "df length for Q 8.0 :  206\n",
      "   -Total Yes for  Brazil :  7 --- Proportion = 0.109375\n",
      "   -Total Yes for  United States of America :  79 --- Proportion = 0.5851851851851851\n",
      "   -Total Yes for  United Kingdom of Great Britain and Northern Ireland :  5 --- Proportion = 0.7142857142857143\n",
      "\n",
      "Year:  2019 -------------------------------------------------------------------\n",
      "df length for Q 1.0 :  288\n",
      "   -Total Yes for  Brazil :  42 --- Proportion = 0.4158415841584158\n",
      "   -Total Yes for  United States of America :  122 --- Proportion = 0.7134502923976608\n",
      "   -Total Yes for  United Kingdom of Great Britain and Northern Ireland :  12 --- Proportion = 0.75\n",
      "df length for Q 2.0 :  288\n",
      "   -Total Yes for  Brazil :  24 --- Proportion = 0.2376237623762376\n",
      "   -Total Yes for  United States of America :  108 --- Proportion = 0.631578947368421\n",
      "   -Total Yes for  United Kingdom of Great Britain and Northern Ireland :  9 --- Proportion = 0.5625\n",
      "df length for Q 4.0 :  288\n",
      "   -Total Yes for  Brazil :  26 --- Proportion = 0.25742574257425743\n",
      "   -Total Yes for  United States of America :  130 --- Proportion = 0.7602339181286549\n",
      "   -Total Yes for  United Kingdom of Great Britain and Northern Ireland :  13 --- Proportion = 0.8125\n",
      "df length for Q 8.0 :  288\n",
      "   -Total Yes for  Brazil :  10 --- Proportion = 0.09900990099009901\n",
      "   -Total Yes for  United States of America :  94 --- Proportion = 0.5497076023391813\n",
      "   -Total Yes for  United Kingdom of Great Britain and Northern Ireland :  6 --- Proportion = 0.375\n",
      "\n",
      "Year:  2020 -------------------------------------------------------------------\n",
      "df length for Q 1.0 :  238\n",
      "   -Total Yes for  Brazil :  33 --- Proportion = 0.4852941176470588\n",
      "   -Total Yes for  United States of America :  110 --- Proportion = 0.7638888888888888\n",
      "   -Total Yes for  United Kingdom of Great Britain and Northern Ireland :  18 --- Proportion = 0.6923076923076923\n",
      "df length for Q 2.0 :  238\n",
      "   -Total Yes for  Brazil :  19 --- Proportion = 0.27941176470588236\n",
      "   -Total Yes for  United States of America :  106 --- Proportion = 0.7361111111111112\n",
      "   -Total Yes for  United Kingdom of Great Britain and Northern Ireland :  13 --- Proportion = 0.5\n",
      "df length for Q 4.0 :  238\n",
      "   -Total Yes for  Brazil :  23 --- Proportion = 0.3382352941176471\n",
      "   -Total Yes for  United States of America :  119 --- Proportion = 0.8263888888888888\n",
      "   -Total Yes for  United Kingdom of Great Britain and Northern Ireland :  22 --- Proportion = 0.8461538461538461\n",
      "df length for Q 8.0 :  238\n",
      "   -Total Yes for  Brazil :  6 --- Proportion = 0.08823529411764706\n",
      "   -Total Yes for  United States of America :  88 --- Proportion = 0.6111111111111112\n",
      "   -Total Yes for  United Kingdom of Great Britain and Northern Ireland :  11 --- Proportion = 0.4230769230769231\n"
     ]
    }
   ],
   "source": [
    "question_numbers = [\"1.0\",\"2.0\",\"4.0\",\"8.0\"]\n",
    "years = [2018, 2019, 2020]\n",
    "response_proportions = {\"United States of America\":{\"1.0\":[],\"2.0\":[],\"4.0\":[],\"8.0\":[]}, \n",
    "                        \"Brazil\":{\"1.0\":[],\"2.0\":[],\"4.0\":[],\"8.0\":[]}, \n",
    "                        \"United Kingdom of Great Britain and Northern Ireland\":{\"1.0\":[],\"2.0\":[],\"4.0\":[],\"8.0\":[]}}\n",
    "\n",
    "\n",
    "for y in years:\n",
    "    curr_year = pd.read_csv(cities_resp[y])\n",
    "    three_count = curr_year[curr_year.apply(lambda x: True if x['Country'] in chosen_countries else False, axis = 1)]\n",
    "    print()\n",
    "    print('Year: ', y,\"-------------------------------------------------------------------\")\n",
    "    for q in question_numbers:\n",
    "        q_specific = three_count[(three_count['Question Number'] == q)]\n",
    "        print(\"df length for Q\", q,\": \", len(q_specific))\n",
    "\n",
    "        for nation in chosen_countries:\n",
    "            both = q_specific[q_specific['Country'] == nation]\n",
    "            total_length = len(both)\n",
    "            total_yes = sum(both['Response Answer'] == 'Yes')\n",
    "            proportion =  total_yes/total_length\n",
    "            print(\"   -Total Yes for \", nation,\": \", total_yes, \"--- Proportion =\", proportion)\n",
    "            response_proportions[nation][q] += [round(proportion,3)]\n",
    "    # progress[y] = response_proportions"
   ]
  },
  {
   "cell_type": "code",
   "execution_count": 7,
   "id": "developmental-interview",
   "metadata": {},
   "outputs": [
    {
     "data": {
      "text/html": [
       "<div>\n",
       "<style scoped>\n",
       "    .dataframe tbody tr th:only-of-type {\n",
       "        vertical-align: middle;\n",
       "    }\n",
       "\n",
       "    .dataframe tbody tr th {\n",
       "        vertical-align: top;\n",
       "    }\n",
       "\n",
       "    .dataframe thead th {\n",
       "        text-align: right;\n",
       "    }\n",
       "</style>\n",
       "<table border=\"1\" class=\"dataframe\">\n",
       "  <thead>\n",
       "    <tr style=\"text-align: right;\">\n",
       "      <th></th>\n",
       "      <th>United States of America</th>\n",
       "      <th>Brazil</th>\n",
       "      <th>United Kingdom of Great Britain and Northern Ireland</th>\n",
       "    </tr>\n",
       "  </thead>\n",
       "  <tbody>\n",
       "    <tr>\n",
       "      <th>1.0</th>\n",
       "      <td>[0.0, 0.713, 0.764]</td>\n",
       "      <td>[0.0, 0.416, 0.485]</td>\n",
       "      <td>[0.0, 0.75, 0.692]</td>\n",
       "    </tr>\n",
       "    <tr>\n",
       "      <th>2.0</th>\n",
       "      <td>[0.493, 0.632, 0.736]</td>\n",
       "      <td>[0.212, 0.238, 0.279]</td>\n",
       "      <td>[0.875, 0.562, 0.5]</td>\n",
       "    </tr>\n",
       "    <tr>\n",
       "      <th>4.0</th>\n",
       "      <td>[0.83, 0.76, 0.826]</td>\n",
       "      <td>[0.641, 0.257, 0.338]</td>\n",
       "      <td>[0.714, 0.812, 0.846]</td>\n",
       "    </tr>\n",
       "    <tr>\n",
       "      <th>8.0</th>\n",
       "      <td>[0.585, 0.55, 0.611]</td>\n",
       "      <td>[0.109, 0.099, 0.088]</td>\n",
       "      <td>[0.714, 0.375, 0.423]</td>\n",
       "    </tr>\n",
       "  </tbody>\n",
       "</table>\n",
       "</div>"
      ],
      "text/plain": [
       "    United States of America                 Brazil  \\\n",
       "1.0      [0.0, 0.713, 0.764]    [0.0, 0.416, 0.485]   \n",
       "2.0    [0.493, 0.632, 0.736]  [0.212, 0.238, 0.279]   \n",
       "4.0      [0.83, 0.76, 0.826]  [0.641, 0.257, 0.338]   \n",
       "8.0     [0.585, 0.55, 0.611]  [0.109, 0.099, 0.088]   \n",
       "\n",
       "    United Kingdom of Great Britain and Northern Ireland  \n",
       "1.0                                 [0.0, 0.75, 0.692]    \n",
       "2.0                                [0.875, 0.562, 0.5]    \n",
       "4.0                              [0.714, 0.812, 0.846]    \n",
       "8.0                              [0.714, 0.375, 0.423]    "
      ]
     },
     "execution_count": 7,
     "metadata": {},
     "output_type": "execute_result"
    }
   ],
   "source": [
    "pd.DataFrame(response_proportions)"
   ]
  },
  {
   "cell_type": "markdown",
   "id": "corporate-advocacy",
   "metadata": {},
   "source": [
    "## Revisions pt 2\n",
    "- Removing C1.0 as it has no data for each country in 2018  \n",
    "\n",
    "## Conclusions?\n",
    "- C2.0 has positive slope for all but UK\n",
    "- C4.0 is different for each, no real patterns\n",
    "- C8.0 follows the same kinds of directions as C4.0, maybe this is what we investigate?"
   ]
  },
  {
   "cell_type": "markdown",
   "id": "surprised-decrease",
   "metadata": {},
   "source": [
    "# Importing in data for the dependent variable\n",
    "Data from: https://www.icos-cp.eu/science-and-impact/global-carbon-budget/2020  \n",
    "- Data was reformatted from an XLSX file and cleaned to only include the data we're interested in and able to study\n",
    "\n",
    "Could have used US: https://aqs.epa.gov/aqsweb/airdata/download_files.html#Annual  \n",
    "And also UK: https://uk-air.defra.gov.uk/data/pcm-data  \n",
    "But had issues finding a similar one for Brazil and others  \n"
   ]
  },
  {
   "cell_type": "code",
   "execution_count": 8,
   "id": "reverse-chest",
   "metadata": {},
   "outputs": [],
   "source": [
    "pollution = pd.read_csv('country_data.csv', index_col = 'Year')"
   ]
  },
  {
   "cell_type": "code",
   "execution_count": 9,
   "id": "indian-universal",
   "metadata": {},
   "outputs": [
    {
     "data": {
      "text/plain": [
       "<AxesSubplot:xlabel='Year'>"
      ]
     },
     "execution_count": 9,
     "metadata": {},
     "output_type": "execute_result"
    },
    {
     "data": {
      "image/png": "[encoded data removed]",
      "text/plain": [
       "<Figure size 432x288 with 1 Axes>"
      ]
     },
     "metadata": {
      "needs_background": "light"
     },
     "output_type": "display_data"
    }
   ],
   "source": [
    "#pollution['USA'].plot()\n",
    "pollution.loc[2005:,:]['USA'].plot()"
   ]
  },
  {
   "cell_type": "code",
   "execution_count": 10,
   "id": "intended-tragedy",
   "metadata": {},
   "outputs": [
    {
     "data": {
      "text/plain": [
       "<AxesSubplot:xlabel='Year'>"
      ]
     },
     "execution_count": 10,
     "metadata": {},
     "output_type": "execute_result"
    },
    {
     "data": {
      "image/png": "[encoded data removed]",
      "text/plain": [
       "<Figure size 432x288 with 1 Axes>"
      ]
     },
     "metadata": {
      "needs_background": "light"
     },
     "output_type": "display_data"
    }
   ],
   "source": [
    "pollution.loc[2005:,:]['Brazil'].plot()"
   ]
  },
  {
   "cell_type": "code",
   "execution_count": 11,
   "id": "dominant-prerequisite",
   "metadata": {},
   "outputs": [
    {
     "data": {
      "text/plain": [
       "<AxesSubplot:xlabel='Year'>"
      ]
     },
     "execution_count": 11,
     "metadata": {},
     "output_type": "execute_result"
    },
    {
     "data": {
      "image/png": "[encoded data removed]",
      "text/plain": [
       "<Figure size 432x288 with 1 Axes>"
      ]
     },
     "metadata": {
      "needs_background": "light"
     },
     "output_type": "display_data"
    }
   ],
   "source": [
    "pollution.loc[2005:,:]['United Kingdom'].plot()"
   ]
  },
  {
   "cell_type": "markdown",
   "id": "domestic-mathematics",
   "metadata": {},
   "source": [
    "## Now lets do some testing"
   ]
  },
  {
   "cell_type": "code",
   "execution_count": 12,
   "id": "concrete-notice",
   "metadata": {},
   "outputs": [],
   "source": [
    "import numpy as np\n",
    "from sklearn.linear_model import LinearRegression"
   ]
  },
  {
   "cell_type": "markdown",
   "id": "oriented-aircraft",
   "metadata": {},
   "source": [
    "### Our Independent Variable"
   ]
  },
  {
   "cell_type": "code",
   "execution_count": 13,
   "id": "separate-booth",
   "metadata": {},
   "outputs": [
    {
     "data": {
      "text/html": [
       "<div>\n",
       "<style scoped>\n",
       "    .dataframe tbody tr th:only-of-type {\n",
       "        vertical-align: middle;\n",
       "    }\n",
       "\n",
       "    .dataframe tbody tr th {\n",
       "        vertical-align: top;\n",
       "    }\n",
       "\n",
       "    .dataframe thead th {\n",
       "        text-align: right;\n",
       "    }\n",
       "</style>\n",
       "<table border=\"1\" class=\"dataframe\">\n",
       "  <thead>\n",
       "    <tr style=\"text-align: right;\">\n",
       "      <th></th>\n",
       "      <th>United States of America</th>\n",
       "      <th>Brazil</th>\n",
       "      <th>United Kingdom of Great Britain and Northern Ireland</th>\n",
       "    </tr>\n",
       "  </thead>\n",
       "  <tbody>\n",
       "    <tr>\n",
       "      <th>1.0</th>\n",
       "      <td>[0.0, 0.713, 0.764]</td>\n",
       "      <td>[0.0, 0.416, 0.485]</td>\n",
       "      <td>[0.0, 0.75, 0.692]</td>\n",
       "    </tr>\n",
       "    <tr>\n",
       "      <th>2.0</th>\n",
       "      <td>[0.493, 0.632, 0.736]</td>\n",
       "      <td>[0.212, 0.238, 0.279]</td>\n",
       "      <td>[0.875, 0.562, 0.5]</td>\n",
       "    </tr>\n",
       "    <tr>\n",
       "      <th>4.0</th>\n",
       "      <td>[0.83, 0.76, 0.826]</td>\n",
       "      <td>[0.641, 0.257, 0.338]</td>\n",
       "      <td>[0.714, 0.812, 0.846]</td>\n",
       "    </tr>\n",
       "    <tr>\n",
       "      <th>8.0</th>\n",
       "      <td>[0.585, 0.55, 0.611]</td>\n",
       "      <td>[0.109, 0.099, 0.088]</td>\n",
       "      <td>[0.714, 0.375, 0.423]</td>\n",
       "    </tr>\n",
       "  </tbody>\n",
       "</table>\n",
       "</div>"
      ],
      "text/plain": [
       "    United States of America                 Brazil  \\\n",
       "1.0      [0.0, 0.713, 0.764]    [0.0, 0.416, 0.485]   \n",
       "2.0    [0.493, 0.632, 0.736]  [0.212, 0.238, 0.279]   \n",
       "4.0      [0.83, 0.76, 0.826]  [0.641, 0.257, 0.338]   \n",
       "8.0     [0.585, 0.55, 0.611]  [0.109, 0.099, 0.088]   \n",
       "\n",
       "    United Kingdom of Great Britain and Northern Ireland  \n",
       "1.0                                 [0.0, 0.75, 0.692]    \n",
       "2.0                                [0.875, 0.562, 0.5]    \n",
       "4.0                              [0.714, 0.812, 0.846]    \n",
       "8.0                              [0.714, 0.375, 0.423]    "
      ]
     },
     "execution_count": 13,
     "metadata": {},
     "output_type": "execute_result"
    }
   ],
   "source": [
    "response_df = pd.DataFrame(response_proportions)\n",
    "response_df"
   ]
  },
  {
   "cell_type": "code",
   "execution_count": 14,
   "id": "absolute-annotation",
   "metadata": {},
   "outputs": [],
   "source": [
    "usa_x = np.array(response_df['United States of America'].to_list()).T\n",
    "braz_x = np.array(response_df['Brazil'].to_list()).T\n",
    "uk_x = np.array(response_df['United Kingdom of Great Britain and Northern Ireland'].to_list()).T"
   ]
  },
  {
   "cell_type": "markdown",
   "id": "frequent-support",
   "metadata": {},
   "source": [
    "### Our dependent Variable"
   ]
  },
  {
   "cell_type": "code",
   "execution_count": 15,
   "id": "ideal-forest",
   "metadata": {},
   "outputs": [],
   "source": [
    "usa_y = pollution.loc[2017:,:]['USA'].to_numpy()\n",
    "braz_y = pollution.loc[2017:,:]['Brazil'].to_numpy()\n",
    "uk_y = pollution.loc[2017:,:]['United Kingdom'].to_numpy()"
   ]
  },
  {
   "cell_type": "markdown",
   "id": "incident-wallpaper",
   "metadata": {},
   "source": [
    "### Explanation\n",
    "- each row is data for a different year\n",
    "- each column is data for each question\n",
    "- we are going to perform *linear regression* with the question outputs as variables\n",
    "- Goal is to see which one has the highest weights\n",
    "- or see if it even regresses well for the countries"
   ]
  },
  {
   "cell_type": "code",
   "execution_count": 16,
   "id": "coordinate-corpus",
   "metadata": {},
   "outputs": [
    {
     "data": {
      "text/plain": [
       "array([[0.   , 0.493, 0.83 , 0.585],\n",
       "       [0.713, 0.632, 0.76 , 0.55 ],\n",
       "       [0.764, 0.736, 0.826, 0.611]])"
      ]
     },
     "execution_count": 16,
     "metadata": {},
     "output_type": "execute_result"
    }
   ],
   "source": [
    "usa_x"
   ]
  },
  {
   "cell_type": "code",
   "execution_count": 17,
   "id": "blocked-alexandria",
   "metadata": {},
   "outputs": [
    {
     "data": {
      "text/plain": [
       "array([1434, 1481, 1442], dtype=int64)"
      ]
     },
     "execution_count": 17,
     "metadata": {},
     "output_type": "execute_result"
    }
   ],
   "source": [
    "usa_y"
   ]
  },
  {
   "cell_type": "markdown",
   "id": "acute-camcorder",
   "metadata": {},
   "source": [
    "## Doing it"
   ]
  },
  {
   "cell_type": "code",
   "execution_count": 18,
   "id": "previous-fields",
   "metadata": {},
   "outputs": [
    {
     "data": {
      "text/plain": [
       "array([  81.63854985, -209.94635941, -178.5253416 , -156.49954292])"
      ]
     },
     "execution_count": 18,
     "metadata": {},
     "output_type": "execute_result"
    }
   ],
   "source": [
    "reg = LinearRegression().fit(usa_x, usa_y)\n",
    "reg.coef_"
   ]
  },
  {
   "cell_type": "code",
   "execution_count": 19,
   "id": "approximate-organizer",
   "metadata": {},
   "outputs": [
    {
     "data": {
      "text/plain": [
       "array([-6.57642645, -0.46429426,  5.8604647 ,  0.17165013])"
      ]
     },
     "execution_count": 19,
     "metadata": {},
     "output_type": "execute_result"
    }
   ],
   "source": [
    "reg = LinearRegression().fit(braz_x, braz_y)\n",
    "reg.coef_"
   ]
  },
  {
   "cell_type": "code",
   "execution_count": 20,
   "id": "detected-somewhere",
   "metadata": {},
   "outputs": [
    {
     "data": {
      "text/plain": [
       "array([  5.93425586,  27.42534785, -13.64691836, -10.23846603])"
      ]
     },
     "execution_count": 20,
     "metadata": {},
     "output_type": "execute_result"
    }
   ],
   "source": [
    "reg = LinearRegression().fit(uk_x, uk_y)\n",
    "reg.coef_"
   ]
  },
  {
   "cell_type": "markdown",
   "id": "secret-hypothetical",
   "metadata": {},
   "source": [
    "### Analysis\n",
    "Rank of weights:  \n",
    "- USA: w2, w3, w4, w1\n",
    "- Brazil: w1, w3, w2, w4\n",
    "- UL: w2, w3, w4, w1\n",
    "\n",
    "Weights 2 and 3 seem to be the most consistent, as well as being mostly **negative**  \n",
    "**Negative** is very important, because that indicates that the model suggests the **decrease polution**\n",
    "\n",
    "### Relating back to the questions\n",
    "So what are these questions even asking again?  \n",
    "w2 relates to C2.0 and w3 relates to C4.0\n",
    "\n",
    "**Q2 (C2.0)**\n",
    "\n",
    "Has a climate change risk or vulnerability assessment been undertaken for the city area?\n",
    "\n",
    "**Q3 (C4.0)**\n",
    "\n",
    "Does your city have a city-wide emissions inventory to report?\n",
    "\n",
    "### Conclusion\n",
    "It's honestly pretty close to exepctations. These questions directly relate to the data we imported, while the others are more focused on greenhouse gasses. The issue we have though is that we did regression on basically no data. It's clear that this outcome should be taken lightly, but does lead us closer to a direction we should focus on. It matched our intuition, while also providing iteresting numerical insight"
   ]
  },
  {
   "cell_type": "code",
   "execution_count": 102,
   "id": "utility-civilization",
   "metadata": {},
   "outputs": [
    {
     "data": {
      "image/png": "[encoded data removed]",
      "text/plain": [
       "<Figure size 1224x360 with 3 Axes>"
      ]
     },
     "metadata": {
      "needs_background": "light"
     },
     "output_type": "display_data"
    }
   ],
   "source": [
    "import matplotlib.pyplot as plt\n",
    "\n",
    "fig, axs = plt.subplots(1,3)\n",
    "fig.set_figheight(5)\n",
    "fig.set_figwidth(17)\n",
    "axs[0].plot(pollution.loc[2005:,:]['USA'])\n",
    "axs[1].plot(pollution.loc[2005:,:]['Brazil'])\n",
    "axs[2].plot(pollution.loc[2005:,:]['United Kingdom'])\n",
    "\n",
    "axs[0].set_ylabel(\"MtC/yr\", fontsize=13)\n",
    "axs[1].set_ylabel(\"MtC/yr\", fontsize=13)\n",
    "axs[2].set_ylabel(\"MtC/yr\", fontsize=13)\n",
    "\n",
    "axs[0].set_xlabel(\"Year\", fontsize=14)\n",
    "axs[1].set_xlabel(\"Year\", fontsize=14)\n",
    "axs[2].set_xlabel(\"Year\", fontsize=14)\n",
    "fig.suptitle('Pollution Trends', fontsize=20)\n",
    "axs[0].set_title('USA Pollution')\n",
    "axs[1].set_title('Brazil Pollution')\n",
    "axs[2].set_title('UK Pollution')\n",
    "fig.tight_layout()\n",
    "fig.savefig('viz1.png', dpi=fig.dpi)"
   ]
  },
  {
   "cell_type": "code",
   "execution_count": 103,
   "id": "recorded-retailer",
   "metadata": {},
   "outputs": [
    {
     "data": {
      "image/png": "[encoded data removed]",
      "text/plain": [
       "<Figure size 1152x288 with 4 Axes>"
      ]
     },
     "metadata": {
      "needs_background": "light"
     },
     "output_type": "display_data"
    }
   ],
   "source": [
    "plot_data = response_df['United Kingdom of Great Britain and Northern Ireland'].to_list()\n",
    "fig, axs = plt.subplots(1,4)\n",
    "fig.set_figheight(4)\n",
    "fig.set_figwidth(16)\n",
    "labels = ['C1.0','C2.0','C4.0','C8.0']\n",
    "fig.suptitle('Change in Responses Per Year', fontsize=20)\n",
    "for i in range(len(plot_data)):\n",
    "    data = pd.Series(plot_data[i], index = [2018,2019,2020])\n",
    "    axs[i].plot(data)\n",
    "    axs[i].set_ylabel(\"proportion of 'Yes'\", fontsize=13)\n",
    "    axs[i].set_xlabel(\"Year\", fontsize=14)\n",
    "    axs[i].set_title(labels[i])\n",
    "fig.tight_layout()\n",
    "#fig.savefig('viz2.png', dpi=fig.dpi)"
   ]
  },
  {
   "cell_type": "code",
   "execution_count": 104,
   "id": "framed-destruction",
   "metadata": {},
   "outputs": [
    {
     "data": {
      "text/html": [
       "<div>\n",
       "<style scoped>\n",
       "    .dataframe tbody tr th:only-of-type {\n",
       "        vertical-align: middle;\n",
       "    }\n",
       "\n",
       "    .dataframe tbody tr th {\n",
       "        vertical-align: top;\n",
       "    }\n",
       "\n",
       "    .dataframe thead th {\n",
       "        text-align: right;\n",
       "    }\n",
       "</style>\n",
       "<table border=\"1\" class=\"dataframe\">\n",
       "  <thead>\n",
       "    <tr style=\"text-align: right;\">\n",
       "      <th></th>\n",
       "      <th>United States of America</th>\n",
       "      <th>Brazil</th>\n",
       "      <th>United Kingdom of Great Britain and Northern Ireland</th>\n",
       "    </tr>\n",
       "  </thead>\n",
       "  <tbody>\n",
       "    <tr>\n",
       "      <th>1.0</th>\n",
       "      <td>[0.0, 0.713, 0.764]</td>\n",
       "      <td>[0.0, 0.416, 0.485]</td>\n",
       "      <td>[0.0, 0.75, 0.692]</td>\n",
       "    </tr>\n",
       "    <tr>\n",
       "      <th>2.0</th>\n",
       "      <td>[0.493, 0.632, 0.736]</td>\n",
       "      <td>[0.212, 0.238, 0.279]</td>\n",
       "      <td>[0.875, 0.562, 0.5]</td>\n",
       "    </tr>\n",
       "    <tr>\n",
       "      <th>4.0</th>\n",
       "      <td>[0.83, 0.76, 0.826]</td>\n",
       "      <td>[0.641, 0.257, 0.338]</td>\n",
       "      <td>[0.714, 0.812, 0.846]</td>\n",
       "    </tr>\n",
       "    <tr>\n",
       "      <th>8.0</th>\n",
       "      <td>[0.585, 0.55, 0.611]</td>\n",
       "      <td>[0.109, 0.099, 0.088]</td>\n",
       "      <td>[0.714, 0.375, 0.423]</td>\n",
       "    </tr>\n",
       "  </tbody>\n",
       "</table>\n",
       "</div>"
      ],
      "text/plain": [
       "    United States of America                 Brazil  \\\n",
       "1.0      [0.0, 0.713, 0.764]    [0.0, 0.416, 0.485]   \n",
       "2.0    [0.493, 0.632, 0.736]  [0.212, 0.238, 0.279]   \n",
       "4.0      [0.83, 0.76, 0.826]  [0.641, 0.257, 0.338]   \n",
       "8.0     [0.585, 0.55, 0.611]  [0.109, 0.099, 0.088]   \n",
       "\n",
       "    United Kingdom of Great Britain and Northern Ireland  \n",
       "1.0                                 [0.0, 0.75, 0.692]    \n",
       "2.0                                [0.875, 0.562, 0.5]    \n",
       "4.0                              [0.714, 0.812, 0.846]    \n",
       "8.0                              [0.714, 0.375, 0.423]    "
      ]
     },
     "execution_count": 104,
     "metadata": {},
     "output_type": "execute_result"
    }
   ],
   "source": [
    "response_df"
   ]
  },
  {
   "cell_type": "code",
   "execution_count": 94,
   "id": "impressive-senior",
   "metadata": {},
   "outputs": [
    {
     "data": {
      "text/plain": [
       "2018    0.000\n",
       "2019    0.750\n",
       "2020    0.692\n",
       "dtype: float64"
      ]
     },
     "execution_count": 94,
     "metadata": {},
     "output_type": "execute_result"
    }
   ],
   "source": [
    "pd.Series([0.0, 0.75, 0.692], index = [2018,2019,2020])"
   ]
  },
  {
   "cell_type": "code",
   "execution_count": 116,
   "id": "mineral-assistant",
   "metadata": {},
   "outputs": [
    {
     "data": {
      "text/plain": [
       "Index(['Afghanistan', 'Albania', 'Algeria', 'Andorra', 'Angola', 'Anguilla',\n",
       "       'Antigua and Barbuda', 'Argentina', 'Armenia', 'Aruba',\n",
       "       ...\n",
       "       'Asia', 'Central America', 'Europe', 'Middle East', 'North America',\n",
       "       'Oceania', 'South America', 'Bunkers', 'Statistical Difference',\n",
       "       'World'],\n",
       "      dtype='object', length=233)"
      ]
     },
     "execution_count": 116,
     "metadata": {},
     "output_type": "execute_result"
    }
   ],
   "source": [
    "pollution.columns"
   ]
  },
  {
   "cell_type": "code",
   "execution_count": null,
   "id": "infectious-organic",
   "metadata": {},
   "outputs": [],
   "source": []
  }
 ],
 "metadata": {
  "kernelspec": {
   "display_name": "Python 3",
   "language": "python",
   "name": "python3"
  },
  "language_info": {
   "codemirror_mode": {
    "name": "ipython",
    "version": 3
   },
   "file_extension": ".py",
   "mimetype": "text/x-python",
   "name": "python",
   "nbconvert_exporter": "python",
   "pygments_lexer": "ipython3",
   "version": "3.7.9"
  }
 },
 "nbformat": 4,
 "nbformat_minor": 5
}
