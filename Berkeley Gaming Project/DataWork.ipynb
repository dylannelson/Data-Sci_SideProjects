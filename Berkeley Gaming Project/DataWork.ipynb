{
 "cells": [
  {
   "cell_type": "code",
   "execution_count": 1,
   "id": "impaired-penetration",
   "metadata": {},
   "outputs": [],
   "source": [
    "import pandas as pd\n",
    "video_data = pd.concat([pd.read_csv(\"video.txt\", delim_whitespace=True), pd.read_csv(\"videoMultiple.txt\", delim_whitespace=True)], axis=1,)\n",
    "import numpy as np"
   ]
  },
  {
   "cell_type": "code",
   "execution_count": 2,
   "id": "increasing-detail",
   "metadata": {},
   "outputs": [],
   "source": [
    "mult_rows = video_data.iloc[:,15:].drop(['other', 'other2', 'coord', 'lonely', 'friends'], axis = 1)\n",
    "game_categories = mult_rows.columns\n",
    "mult_rows['grade'] = video_data['grade']\n",
    "# mult_rows"
   ]
  },
  {
   "cell_type": "code",
   "execution_count": 18,
   "id": "after-montreal",
   "metadata": {},
   "outputs": [
    {
     "data": {
      "text/plain": [
       "0.0     57\n",
       "2.0     14\n",
       "0.5      5\n",
       "1.0      5\n",
       "3.0      3\n",
       "14.0     2\n",
       "5.0      1\n",
       "1.5      1\n",
       "4.0      1\n",
       "30.0     1\n",
       "0.1      1\n",
       "Name: time, dtype: int64"
      ]
     },
     "execution_count": 18,
     "metadata": {},
     "output_type": "execute_result"
    }
   ],
   "source": [
    "video_data['time'].iloc[:,0].value_counts()"
   ]
  },
  {
   "cell_type": "code",
   "execution_count": 43,
   "id": "partial-villa",
   "metadata": {},
   "outputs": [
    {
     "name": "stdout",
     "output_type": "stream",
     "text": [
      "action mean: 3.27\n",
      "adv mean: 3.4\n",
      "sim mean: 3.33\n",
      "sport mean: 3.41\n",
      "strategy mean: 3.29\n",
      "relax mean: 3.29\n",
      "challenge mean: 3.43\n",
      "master mean: 3.4\n",
      "bored mean: 3.21\n",
      "graphic mean: 3.3\n",
      "time mean: 3.14\n",
      "frust mean: 3.3\n",
      "rules mean: 3.24\n",
      "cost mean: 3.31\n",
      "boring mean: 3.21\n",
      "point mean: 3.17\n"
     ]
    }
   ],
   "source": [
    "for i in game_categories:\n",
    "    curr_mean = mult_rows[mult_rows[i] == 1]['grade'].mean()\n",
    "    print(str(i) + \" mean: \" + str(round(curr_mean,2)))"
   ]
  },
  {
   "cell_type": "code",
   "execution_count": 44,
   "id": "thrown-beast",
   "metadata": {},
   "outputs": [],
   "source": [
    "mean_dict = {}\n",
    "for i in game_categories:\n",
    "    cat_grades = mult_rows[mult_rows[i] == 1]['grade'].mean()\n",
    "    mean_dict[i] = cat_grades"
   ]
  },
  {
   "cell_type": "markdown",
   "id": "growing-private",
   "metadata": {},
   "source": [
    "## Means ordered"
   ]
  },
  {
   "cell_type": "code",
   "execution_count": 45,
   "id": "covered-bandwidth",
   "metadata": {},
   "outputs": [
    {
     "data": {
      "text/plain": [
       "challenge    3.428571\n",
       "sport        3.411765\n",
       "adv          3.400000\n",
       "master       3.400000\n",
       "sim          3.333333\n",
       "cost         3.314286\n",
       "graphic      3.304348\n",
       "frust        3.304348\n",
       "relax        3.293103\n",
       "strategy     3.290909\n",
       "action       3.266667\n",
       "rules        3.235294\n",
       "boring       3.214286\n",
       "bored        3.208333\n",
       "point        3.172414\n",
       "time         3.142857\n",
       "dtype: float64"
      ]
     },
     "execution_count": 45,
     "metadata": {},
     "output_type": "execute_result"
    }
   ],
   "source": [
    "pd.Series(mean_dict).sort_values(ascending = False)"
   ]
  },
  {
   "cell_type": "markdown",
   "id": "electronic-prefix",
   "metadata": {},
   "source": [
    "## Popularities of each caegory"
   ]
  },
  {
   "cell_type": "code",
   "execution_count": 47,
   "id": "binding-donor",
   "metadata": {},
   "outputs": [
    {
     "data": {
      "text/plain": [
       "relax         1\n",
       "strategy      2\n",
       "action        3\n",
       "time          4\n",
       "cost          5\n",
       "sport         6\n",
       "point         7\n",
       "adv           8\n",
       "master        9\n",
       "bored        10\n",
       "graphic      11\n",
       "frust        12\n",
       "challenge    13\n",
       "rules        14\n",
       "sim          15\n",
       "boring       16\n",
       "dtype: int32"
      ]
     },
     "execution_count": 47,
     "metadata": {},
     "output_type": "execute_result"
    }
   ],
   "source": [
    "order = mult_rows.drop('grade',axis = 1).sum().sort_values(ascending = False).index.to_list()\n",
    "rank = pd.Series(index = order, data = np.arange(1, len(order)+1))\n",
    "rank"
   ]
  },
  {
   "cell_type": "markdown",
   "id": "guided-cursor",
   "metadata": {},
   "source": [
    "## Combined"
   ]
  },
  {
   "cell_type": "code",
   "execution_count": 48,
   "id": "automated-panama",
   "metadata": {},
   "outputs": [
    {
     "data": {
      "text/html": [
       "<div>\n",
       "<style scoped>\n",
       "    .dataframe tbody tr th:only-of-type {\n",
       "        vertical-align: middle;\n",
       "    }\n",
       "\n",
       "    .dataframe tbody tr th {\n",
       "        vertical-align: top;\n",
       "    }\n",
       "\n",
       "    .dataframe thead th {\n",
       "        text-align: right;\n",
       "    }\n",
       "</style>\n",
       "<table border=\"1\" class=\"dataframe\">\n",
       "  <thead>\n",
       "    <tr style=\"text-align: right;\">\n",
       "      <th></th>\n",
       "      <th>challenge</th>\n",
       "      <th>sport</th>\n",
       "      <th>adv</th>\n",
       "      <th>master</th>\n",
       "      <th>sim</th>\n",
       "      <th>cost</th>\n",
       "      <th>graphic</th>\n",
       "      <th>frust</th>\n",
       "      <th>relax</th>\n",
       "      <th>strategy</th>\n",
       "      <th>action</th>\n",
       "      <th>rules</th>\n",
       "      <th>boring</th>\n",
       "      <th>bored</th>\n",
       "      <th>point</th>\n",
       "      <th>time</th>\n",
       "    </tr>\n",
       "  </thead>\n",
       "  <tbody>\n",
       "    <tr>\n",
       "      <th>0</th>\n",
       "      <td>3.428571</td>\n",
       "      <td>3.411765</td>\n",
       "      <td>3.4</td>\n",
       "      <td>3.4</td>\n",
       "      <td>3.333333</td>\n",
       "      <td>3.314286</td>\n",
       "      <td>3.304348</td>\n",
       "      <td>3.304348</td>\n",
       "      <td>3.293103</td>\n",
       "      <td>3.290909</td>\n",
       "      <td>3.266667</td>\n",
       "      <td>3.235294</td>\n",
       "      <td>3.214286</td>\n",
       "      <td>3.208333</td>\n",
       "      <td>3.172414</td>\n",
       "      <td>3.142857</td>\n",
       "    </tr>\n",
       "    <tr>\n",
       "      <th>1</th>\n",
       "      <td>13.000000</td>\n",
       "      <td>6.000000</td>\n",
       "      <td>8.0</td>\n",
       "      <td>9.0</td>\n",
       "      <td>15.000000</td>\n",
       "      <td>5.000000</td>\n",
       "      <td>11.000000</td>\n",
       "      <td>12.000000</td>\n",
       "      <td>1.000000</td>\n",
       "      <td>2.000000</td>\n",
       "      <td>3.000000</td>\n",
       "      <td>14.000000</td>\n",
       "      <td>16.000000</td>\n",
       "      <td>10.000000</td>\n",
       "      <td>7.000000</td>\n",
       "      <td>4.000000</td>\n",
       "    </tr>\n",
       "  </tbody>\n",
       "</table>\n",
       "</div>"
      ],
      "text/plain": [
       "   challenge     sport  adv  master        sim      cost    graphic  \\\n",
       "0   3.428571  3.411765  3.4     3.4   3.333333  3.314286   3.304348   \n",
       "1  13.000000  6.000000  8.0     9.0  15.000000  5.000000  11.000000   \n",
       "\n",
       "       frust     relax  strategy    action      rules     boring      bored  \\\n",
       "0   3.304348  3.293103  3.290909  3.266667   3.235294   3.214286   3.208333   \n",
       "1  12.000000  1.000000  2.000000  3.000000  14.000000  16.000000  10.000000   \n",
       "\n",
       "      point      time  \n",
       "0  3.172414  3.142857  \n",
       "1  7.000000  4.000000  "
      ]
     },
     "execution_count": 48,
     "metadata": {},
     "output_type": "execute_result"
    }
   ],
   "source": [
    "pd.DataFrame([pd.Series(mean_dict).sort_values(ascending = False), rank])"
   ]
  },
  {
   "cell_type": "code",
   "execution_count": 53,
   "id": "beneficial-merit",
   "metadata": {},
   "outputs": [],
   "source": [
    "grades_dict = {}\n",
    "for i in game_categories:\n",
    "    cat_grades = mult_rows[mult_rows[i] == 1]['grade'].to_list()\n",
    "    grades_dict[i] = cat_grades\n",
    "# grades_dict"
   ]
  },
  {
   "cell_type": "markdown",
   "id": "still-workstation",
   "metadata": {},
   "source": [
    "## Categories means for data section"
   ]
  },
  {
   "cell_type": "code",
   "execution_count": 115,
   "id": "aggregate-arkansas",
   "metadata": {
    "scrolled": true
   },
   "outputs": [
    {
     "data": {
      "text/plain": [
       "relax        0.666667\n",
       "strategy     0.632184\n",
       "action       0.517241\n",
       "time         0.482759\n",
       "cost         0.402299\n",
       "sport        0.390805\n",
       "point        0.333333\n",
       "adv          0.287356\n",
       "master       0.287356\n",
       "bored        0.275862\n",
       "graphic      0.264368\n",
       "frust        0.264368\n",
       "challenge    0.241379\n",
       "rules        0.195402\n",
       "sim          0.172414\n",
       "boring       0.160920\n",
       "dtype: float64"
      ]
     },
     "execution_count": 115,
     "metadata": {},
     "output_type": "execute_result"
    }
   ],
   "source": [
    "mult_rows.drop('grade',axis = 1).mean().sort_values(ascending = False)"
   ]
  },
  {
   "cell_type": "markdown",
   "id": "excessive-recall",
   "metadata": {},
   "source": [
    "## Used for cleaning out Nulls from a specific row and then get the means for the data section"
   ]
  },
  {
   "cell_type": "code",
   "execution_count": 116,
   "id": "unexpected-contamination",
   "metadata": {},
   "outputs": [],
   "source": [
    "df = pd.read_csv(\"video.txt\", delim_whitespace=True)"
   ]
  },
  {
   "cell_type": "code",
   "execution_count": 117,
   "id": "legitimate-possible",
   "metadata": {},
   "outputs": [
    {
     "data": {
      "text/plain": [
       "3    52\n",
       "4    31\n",
       "2     8\n",
       "Name: grade, dtype: int64"
      ]
     },
     "execution_count": 117,
     "metadata": {},
     "output_type": "execute_result"
    }
   ],
   "source": [
    "row = 'grade'\n",
    "df[row].value_counts()"
   ]
  },
  {
   "cell_type": "code",
   "execution_count": 118,
   "id": "innocent-martin",
   "metadata": {},
   "outputs": [
    {
     "data": {
      "text/plain": [
       "3.2527472527472527"
      ]
     },
     "execution_count": 118,
     "metadata": {},
     "output_type": "execute_result"
    }
   ],
   "source": [
    "df[df[row] < 98][row].mean()"
   ]
  },
  {
   "cell_type": "markdown",
   "id": "bizarre-locator",
   "metadata": {},
   "source": [
    "## Nulls "
   ]
  },
  {
   "cell_type": "code",
   "execution_count": 126,
   "id": "dimensional-parallel",
   "metadata": {
    "scrolled": false
   },
   "outputs": [
    {
     "data": {
      "text/plain": [
       "time      0\n",
       "like      1\n",
       "where    18\n",
       "freq     13\n",
       "busy     11\n",
       "educ     13\n",
       "sex       0\n",
       "age       0\n",
       "home      0\n",
       "math      1\n",
       "work      3\n",
       "own       0\n",
       "cdrom     5\n",
       "email     0\n",
       "grade     0\n",
       "dtype: int64"
      ]
     },
     "execution_count": 126,
     "metadata": {},
     "output_type": "execute_result"
    }
   ],
   "source": [
    "(df>98).sum()"
   ]
  },
  {
   "cell_type": "code",
   "execution_count": null,
   "id": "hungarian-windows",
   "metadata": {},
   "outputs": [],
   "source": []
  }
 ],
 "metadata": {
  "kernelspec": {
   "display_name": "Python 3",
   "language": "python",
   "name": "python3"
  },
  "language_info": {
   "codemirror_mode": {
    "name": "ipython",
    "version": 3
   },
   "file_extension": ".py",
   "mimetype": "text/x-python",
   "name": "python",
   "nbconvert_exporter": "python",
   "pygments_lexer": "ipython3",
   "version": "3.7.9"
  }
 },
 "nbformat": 4,
 "nbformat_minor": 5
}
