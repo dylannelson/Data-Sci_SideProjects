{
 "cells": [
  {
   "cell_type": "markdown",
   "metadata": {},
   "source": [
    "# Dota 2 Match Outcome Predictions\n",
    "An attempt to see if I can make an algorithm that can predict if I will win or lose a match\n",
    "<img src=\"logo.png\" alt=\"IMAGE FAILED TO LOAD\" style=\"width:200px;height:115px;\">"
   ]
  },
  {
   "cell_type": "code",
   "execution_count": 2,
   "metadata": {},
   "outputs": [],
   "source": [
    "import re\n",
    "import pandas as pd\n",
    "import matplotlib.pyplot as plt"
   ]
  },
  {
   "cell_type": "markdown",
   "metadata": {},
   "source": [
    "### Context\n",
    "- Dota 2 one of the most popular online games.  \n",
    "- Valve, the company that made the game, as a free public API that releases all the data on every match that is played.  \n",
    "- I was able to hunt down my data and do an interestign analysis."
   ]
  },
  {
   "cell_type": "code",
   "execution_count": 2,
   "metadata": {},
   "outputs": [],
   "source": [
    "apiKey = '0F68F5F96EC6CC04C40F0A28024E20C0'\n",
    "accountID = '96887717'"
   ]
  },
  {
   "cell_type": "markdown",
   "metadata": {},
   "source": [
    "### Supplying the first set of data, and every match will be found after this one"
   ]
  },
  {
   "cell_type": "code",
   "execution_count": 3,
   "metadata": {},
   "outputs": [],
   "source": [
    "id = 'https://api.steampowered.com/IDOTA2Match_570/GetMatchHistory/V001/?key='+ apiKey\\\n",
    "+'&matches_requested=100&account_id='+ accountID+'&min_players=10'\n",
    "table1 = pd.DataFrame(pd.read_json(id).loc['matches']['result'])"
   ]
  },
  {
   "cell_type": "markdown",
   "metadata": {},
   "source": [
    "### Gets all the Match ID's from my latest 500 matches"
   ]
  },
  {
   "cell_type": "code",
   "execution_count": 4,
   "metadata": {},
   "outputs": [],
   "source": [
    "curr_table = table1\n",
    "matches = set()\n",
    "for i in curr_table['match_id']:\n",
    "        matches.add(i)\n",
    "\n",
    "for i in range(5):\n",
    "    last_match = curr_table['match_id'].iloc[-1]\n",
    "\n",
    "    id = 'https://api.steampowered.com/IDOTA2Match_570/GetMatchHistory/V001/?key='+ apiKey\\\n",
    "    +'&matches_requested=100&account_id='+ accountID+'&min_players=10&start_at_match_id='+str(last_match)\n",
    "    curr_table = pd.DataFrame(pd.read_json(id).loc['matches']['result'])\n",
    "\n",
    "    for i in curr_table['match_id']:\n",
    "        matches.add(i)"
   ]
  },
  {
   "cell_type": "code",
   "execution_count": 5,
   "metadata": {},
   "outputs": [
    {
     "data": {
      "text/plain": [
       "500"
      ]
     },
     "execution_count": 5,
     "metadata": {},
     "output_type": "execute_result"
    }
   ],
   "source": [
    "len(matches)"
   ]
  },
  {
   "cell_type": "code",
   "execution_count": 7,
   "metadata": {},
   "outputs": [],
   "source": [
    "# matches"
   ]
  },
  {
   "cell_type": "markdown",
   "metadata": {},
   "source": [
    "### Uses each ID to get the data from that match"
   ]
  },
  {
   "cell_type": "code",
   "execution_count": 8,
   "metadata": {},
   "outputs": [
    {
     "name": "stdout",
     "output_type": "stream",
     "text": [
      "0.1.2.3.4.5.6.7.8.9.10.11.12.13.14.15.16.17.18.19.20.21.22.23.24.25.26.27.28.29.30.31.32.33.34.35.36.37.38.39.40.41.42.43.44.45.46.47.48.49.50.51.52.53.54.55.56.57.58.59.60.61.62.63.64.65.66.67.68.69.70.71.72.73.74.75.76.77.78.79.80.81.82.83.84.85.86.87.88.89.90.91.92.93.94.95.96.97.98.99.100.101.102.103.104.105.106.107.108.109.110.111.112.113.114.115.116.117.118.119.120.121.122.123.124.125.126.127.128.129.130.131.132.133.134.135.136.137.138.139.140.141.142.143.144.145.146.147.148.149.150.151.152.153.154.155.156.157.158.159.160.161.162.163.164.165.166.167.168.169.170.171.172.173.174.175.176.177.178.179.180.181.182.183.184.185.186.187.188.189.190.191.192.193.194.195.196.197.198.199.200.201.202.203.204.205.206.207.208.209.210.211.212.213.214.215.216.217.218.219.220.221.222.223.224.225.226.227.228.229.230.231.232.233.234.235.236.237.238.239.240.241.242.243.244.245.246.247.248.249.250.251.252.253.254.255.256.257.258.259.260.261.262.263.264.265.266.267.268.269.270.271.272.273.274.275.276.277.278.279.280.281.282.283.284.285.286.287.288.289.290.291.292.293.294.295.296.297.298.299.300.301.302.303.304.305.306.307.308.309.310.311.312.313.314.315.316.317.318.319.320.321.322.323.324.325.326.327.328.329.330.331.332.333.334.335.336.337.338.339.340.341.342.343.344.345.346.347.348.349.350.351.352.353.354.355.356.357.358.359.360.361.362.363.364.365.366.367.368.369.370.371.372.373.374.375.376.377.378.379.380.381.382.383.384.385.386.387.388.389.390.391.392.393.394.395.396.397.398.399.400.401.402.403.404.405.406.407.408.409.410.411.412.413.414.415.416.417.418.419.420.421.422.423.424.425.426.427.428.429.430.431.432.433.434.435.436.437.438.439.440.441.442.443.444.445.446.447.448.449.450.451.452.453.454.455.456.457.458.459.460.461.462.463.464.465.466.467.468.469.470.471.472.473.474.475.476.477.478.479.480.481.482.483.484.485.486.487.488.489.490.491.492.493.494.495.496.497.498.499."
     ]
    }
   ],
   "source": [
    "matchData = []\n",
    "error_matches = []\n",
    "initialURL = 'https://api.steampowered.com/IDOTA2Match_570/GetMatchDetails/V001/'\n",
    "i = 0\n",
    "for m in matches:\n",
    "    try:\n",
    "        match = pd.read_json(initialURL + '?match_id={}&key=0F68F5F96EC6CC04C40F0A28024E20C0'.format(m))\n",
    "        vals = pd.DataFrame(match.loc['players']['result']).set_index('account_id').loc[96887717]\n",
    "\n",
    "        # Determining if I won or not\n",
    "        radiant_win = match.loc['radiant_win']['result']\n",
    "        if vals['player_slot'] > 11:\n",
    "            is_radiant = False\n",
    "        else:\n",
    "            is_radiant = True\n",
    "        vals['won'] = is_radiant==radiant_win\n",
    "        vals['match_id'] = match.loc['match_id']['result']\n",
    "        matchData.append(vals)\n",
    "        print(i, end=\".\")\n",
    "    except:\n",
    "        error_matches.append(m)\n",
    "        print('Error with match: '+ str(m))\n",
    "    finally:\n",
    "        i+=1"
   ]
  },
  {
   "cell_type": "code",
   "execution_count": 10,
   "metadata": {},
   "outputs": [],
   "source": [
    "df = pd.DataFrame(matchData)\n",
    "df['match_id_int'] = df['match_id'].apply(lambda x: int(x))"
   ]
  },
  {
   "cell_type": "markdown",
   "metadata": {},
   "source": [
    "What the Dataframe looks like"
   ]
  },
  {
   "cell_type": "code",
   "execution_count": 16,
   "metadata": {},
   "outputs": [
    {
     "data": {
      "text/html": [
       "<div>\n",
       "<style scoped>\n",
       "    .dataframe tbody tr th:only-of-type {\n",
       "        vertical-align: middle;\n",
       "    }\n",
       "\n",
       "    .dataframe tbody tr th {\n",
       "        vertical-align: top;\n",
       "    }\n",
       "\n",
       "    .dataframe thead th {\n",
       "        text-align: right;\n",
       "    }\n",
       "</style>\n",
       "<table border=\"1\" class=\"dataframe\">\n",
       "  <thead>\n",
       "    <tr style=\"text-align: right;\">\n",
       "      <th></th>\n",
       "      <th>player_slot</th>\n",
       "      <th>hero_id</th>\n",
       "      <th>item_0</th>\n",
       "      <th>item_1</th>\n",
       "      <th>item_2</th>\n",
       "      <th>item_3</th>\n",
       "      <th>item_4</th>\n",
       "      <th>item_5</th>\n",
       "      <th>backpack_0</th>\n",
       "      <th>backpack_1</th>\n",
       "      <th>...</th>\n",
       "      <th>tower_damage</th>\n",
       "      <th>hero_healing</th>\n",
       "      <th>gold</th>\n",
       "      <th>gold_spent</th>\n",
       "      <th>scaled_hero_damage</th>\n",
       "      <th>scaled_tower_damage</th>\n",
       "      <th>scaled_hero_healing</th>\n",
       "      <th>ability_upgrades</th>\n",
       "      <th>additional_units</th>\n",
       "      <th>match_id_int</th>\n",
       "    </tr>\n",
       "  </thead>\n",
       "  <tbody>\n",
       "    <tr>\n",
       "      <th>96887717.0</th>\n",
       "      <td>131.0</td>\n",
       "      <td>21.0</td>\n",
       "      <td>123.0</td>\n",
       "      <td>48.0</td>\n",
       "      <td>88.0</td>\n",
       "      <td>135.0</td>\n",
       "      <td>94.0</td>\n",
       "      <td>108.0</td>\n",
       "      <td>0.0</td>\n",
       "      <td>0.0</td>\n",
       "      <td>...</td>\n",
       "      <td>NaN</td>\n",
       "      <td>NaN</td>\n",
       "      <td>NaN</td>\n",
       "      <td>NaN</td>\n",
       "      <td>NaN</td>\n",
       "      <td>NaN</td>\n",
       "      <td>NaN</td>\n",
       "      <td>NaN</td>\n",
       "      <td>NaN</td>\n",
       "      <td>5509318656</td>\n",
       "    </tr>\n",
       "    <tr>\n",
       "      <th>96887717.0</th>\n",
       "      <td>131.0</td>\n",
       "      <td>42.0</td>\n",
       "      <td>151.0</td>\n",
       "      <td>63.0</td>\n",
       "      <td>12.0</td>\n",
       "      <td>8.0</td>\n",
       "      <td>73.0</td>\n",
       "      <td>21.0</td>\n",
       "      <td>0.0</td>\n",
       "      <td>16.0</td>\n",
       "      <td>...</td>\n",
       "      <td>558.0</td>\n",
       "      <td>1314.0</td>\n",
       "      <td>415.0</td>\n",
       "      <td>8160.0</td>\n",
       "      <td>4850.0</td>\n",
       "      <td>220.0</td>\n",
       "      <td>602.0</td>\n",
       "      <td>[{'ability': 5086, 'time': 228, 'level': 1}, {...</td>\n",
       "      <td>NaN</td>\n",
       "      <td>5618616321</td>\n",
       "    </tr>\n",
       "    <tr>\n",
       "      <th>96887717.0</th>\n",
       "      <td>1.0</td>\n",
       "      <td>96.0</td>\n",
       "      <td>50.0</td>\n",
       "      <td>127.0</td>\n",
       "      <td>244.0</td>\n",
       "      <td>125.0</td>\n",
       "      <td>73.0</td>\n",
       "      <td>114.0</td>\n",
       "      <td>0.0</td>\n",
       "      <td>0.0</td>\n",
       "      <td>...</td>\n",
       "      <td>NaN</td>\n",
       "      <td>NaN</td>\n",
       "      <td>NaN</td>\n",
       "      <td>NaN</td>\n",
       "      <td>NaN</td>\n",
       "      <td>NaN</td>\n",
       "      <td>NaN</td>\n",
       "      <td>NaN</td>\n",
       "      <td>NaN</td>\n",
       "      <td>5433892867</td>\n",
       "    </tr>\n",
       "  </tbody>\n",
       "</table>\n",
       "<p>3 rows × 34 columns</p>\n",
       "</div>"
      ],
      "text/plain": [
       "            player_slot  hero_id  item_0  item_1  item_2  item_3  item_4  \\\n",
       "96887717.0        131.0     21.0   123.0    48.0    88.0   135.0    94.0   \n",
       "96887717.0        131.0     42.0   151.0    63.0    12.0     8.0    73.0   \n",
       "96887717.0          1.0     96.0    50.0   127.0   244.0   125.0    73.0   \n",
       "\n",
       "            item_5  backpack_0  backpack_1  ...  tower_damage  hero_healing  \\\n",
       "96887717.0   108.0         0.0         0.0  ...           NaN           NaN   \n",
       "96887717.0    21.0         0.0        16.0  ...         558.0        1314.0   \n",
       "96887717.0   114.0         0.0         0.0  ...           NaN           NaN   \n",
       "\n",
       "             gold  gold_spent  scaled_hero_damage  scaled_tower_damage  \\\n",
       "96887717.0    NaN         NaN                 NaN                  NaN   \n",
       "96887717.0  415.0      8160.0              4850.0                220.0   \n",
       "96887717.0    NaN         NaN                 NaN                  NaN   \n",
       "\n",
       "            scaled_hero_healing  \\\n",
       "96887717.0                  NaN   \n",
       "96887717.0                602.0   \n",
       "96887717.0                  NaN   \n",
       "\n",
       "                                             ability_upgrades  \\\n",
       "96887717.0                                                NaN   \n",
       "96887717.0  [{'ability': 5086, 'time': 228, 'level': 1}, {...   \n",
       "96887717.0                                                NaN   \n",
       "\n",
       "            additional_units  match_id_int  \n",
       "96887717.0               NaN    5509318656  \n",
       "96887717.0               NaN    5618616321  \n",
       "96887717.0               NaN    5433892867  \n",
       "\n",
       "[3 rows x 34 columns]"
      ]
     },
     "execution_count": 16,
     "metadata": {},
     "output_type": "execute_result"
    }
   ],
   "source": [
    "df.head(3)\n",
    "#looks messy, index is all the same and lots of unimportant info"
   ]
  },
  {
   "cell_type": "markdown",
   "metadata": {},
   "source": [
    "# Now cleaning"
   ]
  },
  {
   "cell_type": "code",
   "execution_count": 22,
   "metadata": {},
   "outputs": [
    {
     "name": "stdout",
     "output_type": "stream",
     "text": [
      "expected file name: MoreMatches/matchData_Sep-22-2020.csv\n"
     ]
    }
   ],
   "source": [
    "from datetime import date\n",
    "today = date.today()\n",
    "date = today.strftime(\"%b-%d-%Y\")\n",
    "print('expected file name: ' + 'Data/matchData_{}.csv'.format(date))"
   ]
  },
  {
   "cell_type": "code",
   "execution_count": 24,
   "metadata": {},
   "outputs": [],
   "source": [
    "#Export to CSV\n",
    "df.to_csv('Data/matchData_{}.csv'.format(date), index = False)"
   ]
  },
  {
   "cell_type": "markdown",
   "metadata": {},
   "source": [
    "### Read  in CSV"
   ]
  },
  {
   "cell_type": "code",
   "execution_count": 25,
   "metadata": {},
   "outputs": [
    {
     "data": {
      "text/html": [
       "<div>\n",
       "<style scoped>\n",
       "    .dataframe tbody tr th:only-of-type {\n",
       "        vertical-align: middle;\n",
       "    }\n",
       "\n",
       "    .dataframe tbody tr th {\n",
       "        vertical-align: top;\n",
       "    }\n",
       "\n",
       "    .dataframe thead th {\n",
       "        text-align: right;\n",
       "    }\n",
       "</style>\n",
       "<table border=\"1\" class=\"dataframe\">\n",
       "  <thead>\n",
       "    <tr style=\"text-align: right;\">\n",
       "      <th></th>\n",
       "      <th>player_slot</th>\n",
       "      <th>hero_id</th>\n",
       "      <th>item_0</th>\n",
       "      <th>item_1</th>\n",
       "      <th>item_2</th>\n",
       "      <th>item_3</th>\n",
       "      <th>item_4</th>\n",
       "      <th>item_5</th>\n",
       "      <th>backpack_0</th>\n",
       "      <th>backpack_1</th>\n",
       "      <th>backpack_2</th>\n",
       "      <th>item_neutral</th>\n",
       "      <th>kills</th>\n",
       "      <th>deaths</th>\n",
       "      <th>assists</th>\n",
       "      <th>leaver_status</th>\n",
       "      <th>last_hits</th>\n",
       "      <th>denies</th>\n",
       "      <th>gold_per_min</th>\n",
       "      <th>xp_per_min</th>\n",
       "      <th>level</th>\n",
       "      <th>hero_damage</th>\n",
       "      <th>tower_damage</th>\n",
       "      <th>hero_healing</th>\n",
       "      <th>gold</th>\n",
       "      <th>gold_spent</th>\n",
       "      <th>scaled_hero_damage</th>\n",
       "      <th>scaled_tower_damage</th>\n",
       "      <th>scaled_hero_healing</th>\n",
       "      <th>ability_upgrades</th>\n",
       "      <th>won</th>\n",
       "      <th>match_id</th>\n",
       "      <th>custom_game</th>\n",
       "      <th>additional_units</th>\n",
       "      <th>match_id_int</th>\n",
       "    </tr>\n",
       "  </thead>\n",
       "  <tbody>\n",
       "    <tr>\n",
       "      <th>0</th>\n",
       "      <td>1.0</td>\n",
       "      <td>96.0</td>\n",
       "      <td>50.0</td>\n",
       "      <td>127.0</td>\n",
       "      <td>244.0</td>\n",
       "      <td>125.0</td>\n",
       "      <td>73.0</td>\n",
       "      <td>114.0</td>\n",
       "      <td>0.0</td>\n",
       "      <td>0.0</td>\n",
       "      <td>0.0</td>\n",
       "      <td>308.0</td>\n",
       "      <td>5.0</td>\n",
       "      <td>8.0</td>\n",
       "      <td>14.0</td>\n",
       "      <td>0.0</td>\n",
       "      <td>152.0</td>\n",
       "      <td>6.0</td>\n",
       "      <td>418.0</td>\n",
       "      <td>582.0</td>\n",
       "      <td>22.0</td>\n",
       "      <td>27217.0</td>\n",
       "      <td>6650.0</td>\n",
       "      <td>0.0</td>\n",
       "      <td>3172.0</td>\n",
       "      <td>12860.0</td>\n",
       "      <td>15341.0</td>\n",
       "      <td>2511.0</td>\n",
       "      <td>0.0</td>\n",
       "      <td>[{'ability': 5516, 'time': 232, 'level': 1}, {...</td>\n",
       "      <td>True</td>\n",
       "      <td>5.433893e+09</td>\n",
       "      <td>NaN</td>\n",
       "      <td>NaN</td>\n",
       "      <td>5433892867</td>\n",
       "    </tr>\n",
       "    <tr>\n",
       "      <th>1</th>\n",
       "      <td>128.0</td>\n",
       "      <td>53.0</td>\n",
       "      <td>98.0</td>\n",
       "      <td>50.0</td>\n",
       "      <td>218.0</td>\n",
       "      <td>81.0</td>\n",
       "      <td>188.0</td>\n",
       "      <td>24.0</td>\n",
       "      <td>0.0</td>\n",
       "      <td>0.0</td>\n",
       "      <td>0.0</td>\n",
       "      <td>349.0</td>\n",
       "      <td>5.0</td>\n",
       "      <td>10.0</td>\n",
       "      <td>21.0</td>\n",
       "      <td>0.0</td>\n",
       "      <td>185.0</td>\n",
       "      <td>7.0</td>\n",
       "      <td>381.0</td>\n",
       "      <td>621.0</td>\n",
       "      <td>24.0</td>\n",
       "      <td>23205.0</td>\n",
       "      <td>1362.0</td>\n",
       "      <td>2178.0</td>\n",
       "      <td>649.0</td>\n",
       "      <td>13090.0</td>\n",
       "      <td>13034.0</td>\n",
       "      <td>560.0</td>\n",
       "      <td>751.0</td>\n",
       "      <td>[{'ability': 5247, 'time': 147, 'level': 1}, {...</td>\n",
       "      <td>False</td>\n",
       "      <td>5.439433e+09</td>\n",
       "      <td>NaN</td>\n",
       "      <td>NaN</td>\n",
       "      <td>5439432709</td>\n",
       "    </tr>\n",
       "    <tr>\n",
       "      <th>2</th>\n",
       "      <td>3.0</td>\n",
       "      <td>40.0</td>\n",
       "      <td>102.0</td>\n",
       "      <td>88.0</td>\n",
       "      <td>214.0</td>\n",
       "      <td>57.0</td>\n",
       "      <td>24.0</td>\n",
       "      <td>40.0</td>\n",
       "      <td>0.0</td>\n",
       "      <td>0.0</td>\n",
       "      <td>0.0</td>\n",
       "      <td>335.0</td>\n",
       "      <td>3.0</td>\n",
       "      <td>10.0</td>\n",
       "      <td>9.0</td>\n",
       "      <td>0.0</td>\n",
       "      <td>136.0</td>\n",
       "      <td>6.0</td>\n",
       "      <td>281.0</td>\n",
       "      <td>418.0</td>\n",
       "      <td>19.0</td>\n",
       "      <td>26120.0</td>\n",
       "      <td>73.0</td>\n",
       "      <td>0.0</td>\n",
       "      <td>2457.0</td>\n",
       "      <td>8220.0</td>\n",
       "      <td>16289.0</td>\n",
       "      <td>24.0</td>\n",
       "      <td>0.0</td>\n",
       "      <td>[{'ability': 5179, 'time': 176, 'level': 1}, {...</td>\n",
       "      <td>False</td>\n",
       "      <td>5.451205e+09</td>\n",
       "      <td>NaN</td>\n",
       "      <td>NaN</td>\n",
       "      <td>5451204616</td>\n",
       "    </tr>\n",
       "    <tr>\n",
       "      <th>3</th>\n",
       "      <td>3.0</td>\n",
       "      <td>37.0</td>\n",
       "      <td>254.0</td>\n",
       "      <td>180.0</td>\n",
       "      <td>39.0</td>\n",
       "      <td>36.0</td>\n",
       "      <td>218.0</td>\n",
       "      <td>0.0</td>\n",
       "      <td>0.0</td>\n",
       "      <td>0.0</td>\n",
       "      <td>0.0</td>\n",
       "      <td>356.0</td>\n",
       "      <td>1.0</td>\n",
       "      <td>5.0</td>\n",
       "      <td>11.0</td>\n",
       "      <td>0.0</td>\n",
       "      <td>33.0</td>\n",
       "      <td>5.0</td>\n",
       "      <td>197.0</td>\n",
       "      <td>285.0</td>\n",
       "      <td>13.0</td>\n",
       "      <td>11299.0</td>\n",
       "      <td>0.0</td>\n",
       "      <td>6255.0</td>\n",
       "      <td>1053.0</td>\n",
       "      <td>4640.0</td>\n",
       "      <td>6028.0</td>\n",
       "      <td>0.0</td>\n",
       "      <td>4386.0</td>\n",
       "      <td>[{'ability': 5164, 'time': 235, 'level': 1}, {...</td>\n",
       "      <td>False</td>\n",
       "      <td>5.385200e+09</td>\n",
       "      <td>NaN</td>\n",
       "      <td>NaN</td>\n",
       "      <td>5385199625</td>\n",
       "    </tr>\n",
       "    <tr>\n",
       "      <th>4</th>\n",
       "      <td>2.0</td>\n",
       "      <td>105.0</td>\n",
       "      <td>100.0</td>\n",
       "      <td>335.0</td>\n",
       "      <td>214.0</td>\n",
       "      <td>218.0</td>\n",
       "      <td>250.0</td>\n",
       "      <td>108.0</td>\n",
       "      <td>336.0</td>\n",
       "      <td>178.0</td>\n",
       "      <td>0.0</td>\n",
       "      <td>0.0</td>\n",
       "      <td>6.0</td>\n",
       "      <td>4.0</td>\n",
       "      <td>8.0</td>\n",
       "      <td>0.0</td>\n",
       "      <td>176.0</td>\n",
       "      <td>1.0</td>\n",
       "      <td>432.0</td>\n",
       "      <td>584.0</td>\n",
       "      <td>24.0</td>\n",
       "      <td>NaN</td>\n",
       "      <td>NaN</td>\n",
       "      <td>NaN</td>\n",
       "      <td>NaN</td>\n",
       "      <td>NaN</td>\n",
       "      <td>NaN</td>\n",
       "      <td>NaN</td>\n",
       "      <td>NaN</td>\n",
       "      <td>NaN</td>\n",
       "      <td>1.0</td>\n",
       "      <td>5.164104e+09</td>\n",
       "      <td>NaN</td>\n",
       "      <td>NaN</td>\n",
       "      <td>5164103689</td>\n",
       "    </tr>\n",
       "  </tbody>\n",
       "</table>\n",
       "</div>"
      ],
      "text/plain": [
       "   player_slot  hero_id  item_0  item_1  item_2  item_3  item_4  item_5  \\\n",
       "0          1.0     96.0    50.0   127.0   244.0   125.0    73.0   114.0   \n",
       "1        128.0     53.0    98.0    50.0   218.0    81.0   188.0    24.0   \n",
       "2          3.0     40.0   102.0    88.0   214.0    57.0    24.0    40.0   \n",
       "3          3.0     37.0   254.0   180.0    39.0    36.0   218.0     0.0   \n",
       "4          2.0    105.0   100.0   335.0   214.0   218.0   250.0   108.0   \n",
       "\n",
       "   backpack_0  backpack_1  backpack_2  item_neutral  kills  deaths  assists  \\\n",
       "0         0.0         0.0         0.0         308.0    5.0     8.0     14.0   \n",
       "1         0.0         0.0         0.0         349.0    5.0    10.0     21.0   \n",
       "2         0.0         0.0         0.0         335.0    3.0    10.0      9.0   \n",
       "3         0.0         0.0         0.0         356.0    1.0     5.0     11.0   \n",
       "4       336.0       178.0         0.0           0.0    6.0     4.0      8.0   \n",
       "\n",
       "   leaver_status  last_hits  denies  gold_per_min  xp_per_min  level  \\\n",
       "0            0.0      152.0     6.0         418.0       582.0   22.0   \n",
       "1            0.0      185.0     7.0         381.0       621.0   24.0   \n",
       "2            0.0      136.0     6.0         281.0       418.0   19.0   \n",
       "3            0.0       33.0     5.0         197.0       285.0   13.0   \n",
       "4            0.0      176.0     1.0         432.0       584.0   24.0   \n",
       "\n",
       "   hero_damage  tower_damage  hero_healing    gold  gold_spent  \\\n",
       "0      27217.0        6650.0           0.0  3172.0     12860.0   \n",
       "1      23205.0        1362.0        2178.0   649.0     13090.0   \n",
       "2      26120.0          73.0           0.0  2457.0      8220.0   \n",
       "3      11299.0           0.0        6255.0  1053.0      4640.0   \n",
       "4          NaN           NaN           NaN     NaN         NaN   \n",
       "\n",
       "   scaled_hero_damage  scaled_tower_damage  scaled_hero_healing  \\\n",
       "0             15341.0               2511.0                  0.0   \n",
       "1             13034.0                560.0                751.0   \n",
       "2             16289.0                 24.0                  0.0   \n",
       "3              6028.0                  0.0               4386.0   \n",
       "4                 NaN                  NaN                  NaN   \n",
       "\n",
       "                                    ability_upgrades    won      match_id  \\\n",
       "0  [{'ability': 5516, 'time': 232, 'level': 1}, {...   True  5.433893e+09   \n",
       "1  [{'ability': 5247, 'time': 147, 'level': 1}, {...  False  5.439433e+09   \n",
       "2  [{'ability': 5179, 'time': 176, 'level': 1}, {...  False  5.451205e+09   \n",
       "3  [{'ability': 5164, 'time': 235, 'level': 1}, {...  False  5.385200e+09   \n",
       "4                                                NaN    1.0  5.164104e+09   \n",
       "\n",
       "  custom_game additional_units  match_id_int  \n",
       "0         NaN              NaN    5433892867  \n",
       "1         NaN              NaN    5439432709  \n",
       "2         NaN              NaN    5451204616  \n",
       "3         NaN              NaN    5385199625  \n",
       "4         NaN              NaN    5164103689  "
      ]
     },
     "execution_count": 25,
     "metadata": {},
     "output_type": "execute_result"
    }
   ],
   "source": [
    "uncleaned = pd.read_csv('Data/dota_matches.csv')\n",
    "pd.set_option('display.max_columns', None)\n",
    "uncleaned.head()"
   ]
  },
  {
   "cell_type": "markdown",
   "metadata": {},
   "source": [
    "### Removing wherever there is a 'different' game type\n",
    "The game has occasional promotional or spin-off game modes that aren't much related to the core came"
   ]
  },
  {
   "cell_type": "code",
   "execution_count": 26,
   "metadata": {},
   "outputs": [],
   "source": [
    "uncleaned = uncleaned[uncleaned['custom_game'].isna()].drop(['custom_game','additional_units'],axis = 1)"
   ]
  },
  {
   "cell_type": "code",
   "execution_count": 27,
   "metadata": {},
   "outputs": [
    {
     "data": {
      "text/plain": [
       "(455, 33)"
      ]
     },
     "execution_count": 27,
     "metadata": {},
     "output_type": "execute_result"
    }
   ],
   "source": [
    "uncleaned.shape"
   ]
  },
  {
   "cell_type": "markdown",
   "metadata": {},
   "source": [
    "# Missingness and Cleaning"
   ]
  },
  {
   "cell_type": "markdown",
   "metadata": {},
   "source": [
    "### For some reason some of the data was labeled 1/0 and others were labeled True/False"
   ]
  },
  {
   "cell_type": "code",
   "execution_count": 31,
   "metadata": {},
   "outputs": [
    {
     "data": {
      "text/plain": [
       "1.0      136\n",
       "0.0      112\n",
       "True     108\n",
       "False     99\n",
       "Name: won, dtype: int64"
      ]
     },
     "execution_count": 31,
     "metadata": {},
     "output_type": "execute_result"
    }
   ],
   "source": [
    "uncleaned['won'].value_counts()"
   ]
  },
  {
   "cell_type": "markdown",
   "metadata": {},
   "source": [
    "### And we also want to remove all guaranteed irrelevent columns"
   ]
  },
  {
   "cell_type": "code",
   "execution_count": 32,
   "metadata": {},
   "outputs": [],
   "source": [
    "uncleaned = uncleaned.drop(['item_0','item_1','item_2','item_3','item_4','item_5','backpack_0','backpack_1','backpack_2','item_neutral','ability_upgrades','leaver_status'], axis = 1)\n",
    "uncleaned['won'] = uncleaned['won'].apply(lambda x: 1 if x in ['True', '1.0'] else 0)"
   ]
  },
  {
   "cell_type": "code",
   "execution_count": 33,
   "metadata": {},
   "outputs": [],
   "source": [
    "#uncleaned.to_csv('Data/dota_matches_cleaned.csv')"
   ]
  },
  {
   "cell_type": "markdown",
   "metadata": {},
   "source": [
    "### These are all the important columns, besides the NA ones"
   ]
  },
  {
   "cell_type": "code",
   "execution_count": 34,
   "metadata": {},
   "outputs": [
    {
     "data": {
      "text/plain": [
       "(player_slot              0\n",
       " hero_id                  0\n",
       " kills                    0\n",
       " deaths                   0\n",
       " assists                  0\n",
       " last_hits                0\n",
       " denies                   0\n",
       " gold_per_min             0\n",
       " xp_per_min               0\n",
       " level                    0\n",
       " hero_damage            272\n",
       " tower_damage           272\n",
       " hero_healing           272\n",
       " gold                   272\n",
       " gold_spent             272\n",
       " scaled_hero_damage     272\n",
       " scaled_tower_damage    272\n",
       " scaled_hero_healing    272\n",
       " won                      0\n",
       " match_id                 0\n",
       " match_id_int             0\n",
       " dtype: int64,\n",
       " (455, 21))"
      ]
     },
     "execution_count": 34,
     "metadata": {},
     "output_type": "execute_result"
    }
   ],
   "source": [
    "uncleaned.isna().sum(), uncleaned.shape"
   ]
  },
  {
   "cell_type": "markdown",
   "metadata": {},
   "source": [
    "There's a lot of NA's (more than half the data for some variables), so I will be addressing that later"
   ]
  },
  {
   "cell_type": "code",
   "execution_count": 3,
   "metadata": {},
   "outputs": [],
   "source": [
    "cleaned = pd.read_csv('Data/dota_matches_cleaned.csv')"
   ]
  },
  {
   "cell_type": "markdown",
   "metadata": {},
   "source": [
    "### Notice a few things in the following graphs\n",
    "- They are seperated across 3 variables and the 2 different outcomes I want to predict\n",
    "- Blue dots are means of the data set\n",
    "- As expected I have less deaths when I win\n",
    "    - I have more kills when I win\n",
    "    - And I am usually a higher level when I win\n",
    "- These are things I would believe intuitively, and  the data supports it\n",
    "- The distributions are mostly normal as well\n",
    "- And because of these points, I believe that these are good variables to be using"
   ]
  },
  {
   "cell_type": "code",
   "execution_count": 23,
   "metadata": {},
   "outputs": [
    {
     "data": {
      "text/plain": [
       "[<matplotlib.lines.Line2D at 0x238da617508>]"
      ]
     },
     "execution_count": 23,
     "metadata": {},
     "output_type": "execute_result"
    },
    {
     "data": {
      "image/png": "[encoded data removed]",
      "text/plain": [
       "<Figure size 1080x504 with 6 Axes>"
      ]
     },
     "metadata": {
      "needs_background": "light"
     },
     "output_type": "display_data"
    }
   ],
   "source": [
    "fig,axes = plt.subplots(2,3, figsize = (15,7))\n",
    "\n",
    "# Top Left Graph. Histogram of kills per game when game is lost \n",
    "cleaned[cleaned['won'] == 0]['kills']\\\n",
    "    .plot(kind = 'hist', ax = axes[0,0], color = 'red',title = 'kills when lost', xlim = (0,25), ylim = (0,75))\n",
    "# Bottom Left Graph. Histogram of kills per game when game is won \n",
    "cleaned[cleaned['won'] == 1]['kills']\\\n",
    "    .plot(kind = 'hist', ax = axes[1,0], color = 'green',title = 'kills when won', xlim = (0,25), ylim = (0,75))\n",
    "\n",
    "# Top Middle Graph. Histogram of deaths per game when game is lost\n",
    "cleaned[cleaned['won'] == 0]['deaths']\\\n",
    "    .plot(kind = 'hist', ax = axes[0,1], color = 'red', title = 'deaths when lost', xlim = (0,20), ylim = (0,70))\n",
    "# Bottom Middle Graph. Histogram of deaths per game when game is won\n",
    "cleaned[cleaned['won'] == 1]['deaths']\\\n",
    "    .plot(kind = 'hist', ax = axes[1,1], color = 'green',title = 'deaths when won', xlim = (0,20), ylim = (0,70))\n",
    "\n",
    "\n",
    "cleaned[cleaned['won'] == 0]['level']\\\n",
    "    .plot(kind = 'hist', ax = axes[0,2], color = 'red',title = 'level when lost', xlim = (0,30), ylim = (0,75))\n",
    "cleaned[cleaned['won'] == 1]['level']\\\n",
    "    .plot(kind = 'hist', ax = axes[1,2], color = 'green',title = 'level when won', xlim = (0,30), ylim = (0,75))\n",
    "\n",
    "# dots to show averages\n",
    "axes[1,1].plot(cleaned[cleaned['won'] == 1]['deaths'].mean(),0, 'ro', color = 'blue')\n",
    "axes[0,1].plot(cleaned[cleaned['won'] == 0]['deaths'].mean(),0, 'ro', color = 'blue')\n",
    "axes[1,0].plot(cleaned[cleaned['won'] == 1]['kills'].mean(),0, 'ro', color = 'blue')\n",
    "axes[0,0].plot(cleaned[cleaned['won'] == 0]['kills'].mean(),0, 'ro', color = 'blue')\n",
    "axes[1,2].plot(cleaned[cleaned['won'] == 1]['level'].mean(),0, 'ro', color = 'blue')\n",
    "axes[0,2].plot(cleaned[cleaned['won'] == 0]['level'].mean(),0, 'ro', color = 'blue')"
   ]
  },
  {
   "cell_type": "markdown",
   "metadata": {},
   "source": [
    "## I have 2 paths to go...\n",
    "- Remove those NA columns and train my data on only **8 variables**, but **~450 data points**\n",
    "- Remove the columns rows with NA , and train on **16 variables**, but only **~185 data points**"
   ]
  },
  {
   "cell_type": "markdown",
   "metadata": {},
   "source": [
    "## Decided to go for more data points, and less variables, since overfitting with too many variables is a problem anyways"
   ]
  },
  {
   "cell_type": "markdown",
   "metadata": {},
   "source": [
    "Variables:\n",
    "- **kills**: Number enemies eliminated by the player in that match\n",
    "- **deaths**: Number of times the player was eliminated \n",
    "- **assists**: Number of times the player helped eliminate an enemy\n",
    "- **last_hits**: Number of points the player got from killing non-player monsters\n",
    "- **denies**: Number times the player prevented the enemy from getting points for killing a non-player monster\n",
    "- **gold_per_min**: Average gold points per minute (gold is used to get items)\n",
    "- **xp_per_min**: Average experience points per minute (experience/XP is used to get level up and get stronger)\n",
    "- **level**: A total number of XP points"
   ]
  },
  {
   "cell_type": "markdown",
   "metadata": {},
   "source": [
    "### What are we dealing with?\n",
    "- Supervised learning\n",
    "    - The data *is labeled* \n",
    "    - This fits a method like classification/regression well\n",
    "- Difference?\n",
    "    - Here we are really able to use both\n",
    "-  Classification\n",
    "    - Can say there are only 2 categories, win or loss\n",
    "    - Train the model on those distinct categories\n",
    "- Regression\n",
    "    - Count 1's as 'win' and 0 as 'loss' \n",
    "    - Train a model and get weights\n",
    "    - Allow them model to try and predict a number between 1 and 0 given match data and the weights\n",
    "    - That number is effectively a Probability that the match was won. \n",
    "    - To classify, if the Probability was >= .5, then consider it a win"
   ]
  },
  {
   "cell_type": "markdown",
   "metadata": {},
   "source": [
    "### Choices\n",
    "- Scikit learn has really useful functions for this\n",
    "    - CalibratedClassifierCV helps classify with probabilities\n",
    "    - They have built in function such as K-means, another good approach\n",
    "        - Uses previous match data and sees looks at the kth most similar matches, and takes the most common outcome from those\n",
    "    - A huge list of 'ensamble' classification *and* regression methods, that I have some experience with.\n",
    "        - Built around averaging and aims to improve generalizability\n",
    "        \n",
    "### Decision\n",
    "- Going to use linear regression\n",
    "- Much simpler than Scikit\n",
    "    - Have much more expereince and its easier to know what is happening at each step\n",
    "    - Follow similar methods as we did in TA3"
   ]
  },
  {
   "cell_type": "markdown",
   "metadata": {},
   "source": [
    "### Explanation of Methods\n",
    "- Mostly a few simple steps  "
   ]
  },
  {
   "cell_type": "markdown",
   "metadata": {},
   "source": [
    "#### Linear Regression\n",
    "1. Select a model\n",
    "    - My model will be a basic linear model\n",
    "    - follows a y = w0 + w1x1 + w1x1 ... wnxn\n",
    "2. Put data into array (matrix)\n",
    "    - create the A matrix\n",
    "        - the left most column will be a column of all ones, used to make w0, a weight not scaled by any inputs\n",
    "        - each column in the df is a column in the matrix\n",
    "3. Solve for weight vector\n",
    "    - Using our A matrix, we solve y = Aw\n",
    "        - y is our list of known outputs and A is the matrix we just created\n",
    "4. Report the model\n",
    "    - Now that we have the weights, we can fill in \"w0 + w1x1 + w1x1 ... wnxn\" with our weights (w's) and the X's (varaible names corresponding to each W\n",
    "5. Visualize the model using predicted values\n",
    "    - This part we can't really do (without some PCA) since our data is 6th dimensional"
   ]
  },
  {
   "cell_type": "markdown",
   "metadata": {},
   "source": [
    "### Results\n",
    "- I hope to find a model with around 75% accuracy\n",
    "#### What if it doesn't meet that cutoff?\n",
    "- If the model doesn't work too well, I can try to change my model by adding x^2's or other numbers to make them exponentially more important\n",
    "- Try to do a test/train set\n",
    "    - If the train set can predict the test set well, use the current model\n",
    "    - If not, change the model and run the algorithm again"
   ]
  },
  {
   "cell_type": "markdown",
   "metadata": {},
   "source": [
    "\n",
    "\n",
    "\n",
    "\n",
    "\n",
    "\n",
    "\n",
    "\n",
    "\n",
    "\n",
    "\n",
    "\n",
    "\n",
    "\n",
    "\n",
    "\n",
    "\n",
    "\n",
    "\n",
    "\n",
    "\n",
    "\n",
    "\n",
    "\n",
    "\n",
    "\n"
   ]
  },
  {
   "cell_type": "markdown",
   "metadata": {},
   "source": [
    "\n",
    "\n",
    "\n",
    "\n",
    "\n",
    "\n",
    "\n",
    "\n",
    "\n",
    "\n",
    "\n",
    "\n",
    "\n",
    "\n",
    "\n",
    "\n",
    "\n",
    "\n",
    "\n",
    "\n",
    "\n",
    "\n",
    "\n"
   ]
  },
  {
   "cell_type": "markdown",
   "metadata": {},
   "source": [
    "\n",
    "\n",
    "\n",
    "\n",
    "\n",
    "\n",
    "\n",
    " "
   ]
  },
  {
   "cell_type": "markdown",
   "metadata": {},
   "source": [
    "\n",
    "\n",
    "\n",
    " "
   ]
  },
  {
   "cell_type": "markdown",
   "metadata": {},
   "source": [
    " \n",
    "\n",
    "\n",
    " "
   ]
  },
  {
   "cell_type": "markdown",
   "metadata": {},
   "source": [
    "\n",
    "\n",
    "\n",
    " "
   ]
  },
  {
   "cell_type": "markdown",
   "metadata": {},
   "source": [
    "\n",
    "\n",
    "\n",
    " "
   ]
  },
  {
   "cell_type": "markdown",
   "metadata": {},
   "source": [
    "\n",
    "\n",
    "\n",
    " "
   ]
  }
 ],
 "metadata": {
  "kernelspec": {
   "display_name": "Python 3",
   "language": "python",
   "name": "python3"
  },
  "language_info": {
   "codemirror_mode": {
    "name": "ipython",
    "version": 3
   },
   "file_extension": ".py",
   "mimetype": "text/x-python",
   "name": "python",
   "nbconvert_exporter": "python",
   "pygments_lexer": "ipython3",
   "version": "3.7.6"
  }
 },
 "nbformat": 4,
 "nbformat_minor": 4
}
