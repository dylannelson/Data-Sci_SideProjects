{
 "cells": [
  {
   "cell_type": "code",
   "execution_count": 2,
   "metadata": {},
   "outputs": [],
   "source": [
    "import re\n",
    "import pandas as pd\n",
    "import matplotlib.pyplot as plt"
   ]
  },
  {
   "cell_type": "code",
   "execution_count": 3,
   "metadata": {},
   "outputs": [],
   "source": [
    "apiKey = '0F68F5F96EC6CC04C40F0A28024E20C0'\n",
    "accountID = '96887717'\n",
    "id = 'https://api.steampowered.com/IDOTA2Match_570/GetMatchHistory/V001/?key='+ apiKey\\\n",
    "+'&matches_requested=100&account_id='+ accountID+'&min_players=10'\n"
   ]
  },
  {
   "cell_type": "code",
   "execution_count": 12,
   "metadata": {},
   "outputs": [
    {
     "name": "stdout",
     "output_type": "stream",
     "text": [
      "Len of matches: 0 at itteration 0\n",
      "Length of matches whith ID: 0 is : 100\n",
      "Len of matches: 100 at itteration 1\n",
      "Length of matches whith ID: 1 is : 28\n",
      "Len of matches: 128 at itteration 2\n",
      "Length of matches whith ID: 2 is : 40\n",
      "Len of matches: 168 at itteration 3\n",
      "Length of matches whith ID: 3 is : 10\n",
      "Len of matches: 178 at itteration 4\n",
      "Length of matches whith ID: 4 is : 29\n",
      "Len of matches: 207 at itteration 5\n",
      "Length of matches whith ID: 5 is : 25\n",
      "Len of matches: 232 at itteration 6\n",
      "Length of matches whith ID: 6 is : 17\n",
      "Len of matches: 249 at itteration 7\n",
      "Length of matches whith ID: 7 is : 31\n",
      "Len of matches: 279 at itteration 8\n",
      "Length of matches whith ID: 8 is : 21\n",
      "Len of matches: 300 at itteration 9\n",
      "Length of matches whith ID: 9 is : 13\n",
      "Len of matches: 313 at itteration 10\n",
      "Length of matches whith ID: 10 is : 9\n",
      "Len of matches: 322 at itteration 11\n",
      "Length of matches whith ID: 11 is : 18\n",
      "Len of matches: 340 at itteration 12\n",
      "Length of matches whith ID: 12 is : 12\n",
      "Len of matches: 352 at itteration 13\n",
      "Length of matches whith ID: 13 is : 2\n",
      "Len of matches: 354 at itteration 14\n",
      "Length of matches whith ID: 14 is : 30\n",
      "Len of matches: 382 at itteration 15\n",
      "Length of matches whith ID: 15 is : 6\n",
      "Len of matches: 388 at itteration 16\n",
      "Length of matches whith ID: 16 is : 48\n",
      "Len of matches: 436 at itteration 17\n",
      "Length of matches whith ID: 17 is : 8\n",
      "Len of matches: 444 at itteration 18\n",
      "Length of matches whith ID: 18 is : 23\n",
      "Len of matches: 466 at itteration 19\n",
      "Length of matches whith ID: 19 is : 15\n",
      "Len of matches: 481 at itteration 20\n",
      "Length of matches whith ID: 20 is : 13\n",
      "Len of matches: 492 at itteration 21\n",
      "Length of matches whith ID: 21 is : 15\n",
      "Len of matches: 499 at itteration 22\n",
      "Length of matches whith ID: 22 is : 53\n",
      "Len of matches: 552 at itteration 23\n",
      "Length of matches whith ID: 23 is : 23\n",
      "Len of matches: 575 at itteration 24\n",
      "Length of matches whith ID: 24 is : 100\n",
      "Len of matches: 575 at itteration 25\n",
      "Length of matches whith ID: 25 is : 5\n",
      "Len of matches: 580 at itteration 26\n",
      "Length of matches whith ID: 26 is : 90\n",
      "Len of matches: 667 at itteration 27\n",
      "Length of matches whith ID: 27 is : 15\n",
      "Len of matches: 682 at itteration 28\n",
      "Length of matches whith ID: 28 is : 14\n",
      "Len of matches: 696 at itteration 29\n",
      "Length of matches whith ID: 29 is : 20\n",
      "Len of matches: 716 at itteration 30\n",
      "Length of matches whith ID: 30 is : 36\n",
      "Len of matches: 750 at itteration 31\n",
      "Length of matches whith ID: 31 is : 12\n",
      "Len of matches: 762 at itteration 32\n",
      "Length of matches whith ID: 32 is : 31\n",
      "Len of matches: 792 at itteration 33\n",
      "Length of matches whith ID: 33 is : 16\n",
      "Len of matches: 808 at itteration 34\n",
      "Length of matches whith ID: 34 is : 21\n",
      "Len of matches: 829 at itteration 35\n",
      "Length of matches whith ID: 35 is : 28\n",
      "Len of matches: 857 at itteration 36\n",
      "Length of matches whith ID: 36 is : 56\n",
      "Len of matches: 912 at itteration 37\n",
      "Length of matches whith ID: 37 is : 58\n",
      "Len of matches: 970 at itteration 38\n",
      "Length of matches whith ID: 38 is : 15\n",
      "Len of matches: 985 at itteration 39\n",
      "Length of matches whith ID: 39 is : 9\n",
      "Len of matches: 993 at itteration 40\n",
      "Length of matches whith ID: 40 is : 16\n",
      "Len of matches: 1008 at itteration 41\n",
      "Length of matches whith ID: 41 is : 22\n",
      "Len of matches: 1029 at itteration 42\n",
      "Length of matches whith ID: 42 is : 59\n",
      "Len of matches: 1069 at itteration 43\n",
      "Length of matches whith ID: 43 is : 27\n",
      "Len of matches: 1096 at itteration 44\n",
      "Length of matches whith ID: 44 is : 32\n",
      "Len of matches: 1127 at itteration 45\n",
      "Length of matches whith ID: 45 is : 9\n",
      "Len of matches: 1135 at itteration 46\n",
      "Length of matches whith ID: 46 is : 17\n",
      "Len of matches: 1151 at itteration 47\n",
      "Length of matches whith ID: 47 is : 57\n",
      "Len of matches: 1204 at itteration 48\n",
      "Length of matches whith ID: 48 is : 24\n",
      "Len of matches: 1228 at itteration 49\n",
      "Length of matches whith ID: 49 is : 14\n",
      "Len of matches: 1242 at itteration 50\n",
      "Length of matches whith ID: 50 is : 29\n",
      "Len of matches: 1268 at itteration 51\n",
      "Length of matches whith ID: 51 is : 3\n",
      "Len of matches: 1271 at itteration 52\n",
      "Length of matches whith ID: 52 is : 10\n",
      "Len of matches: 1281 at itteration 53\n",
      "Length of matches whith ID: 53 is : 82\n",
      "Len of matches: 1363 at itteration 54\n",
      "Length of matches whith ID: 54 is : 15\n",
      "Len of matches: 1378 at itteration 55\n",
      "Length of matches whith ID: 55 is : 7\n",
      "Len of matches: 1385 at itteration 56\n",
      "Length of matches whith ID: 56 is : 13\n",
      "Len of matches: 1398 at itteration 57\n",
      "Length of matches whith ID: 57 is : 45\n",
      "Len of matches: 1440 at itteration 58\n",
      "Length of matches whith ID: 58 is : 4\n",
      "Len of matches: 1444 at itteration 59\n",
      "Length of matches whith ID: 59 is : 22\n",
      "Len of matches: 1466 at itteration 60\n",
      "Length of matches whith ID: 60 is : 9\n",
      "Len of matches: 1474 at itteration 61\n",
      "Length of matches whith ID: 61 is : 9\n",
      "Len of matches: 1483 at itteration 62\n",
      "Length of matches whith ID: 62 is : 22\n",
      "Len of matches: 1504 at itteration 63\n",
      "Length of matches whith ID: 63 is : 15\n",
      "Len of matches: 1519 at itteration 64\n",
      "Length of matches whith ID: 64 is : 9\n",
      "Len of matches: 1528 at itteration 65\n",
      "Length of matches whith ID: 65 is : 5\n",
      "Len of matches: 1533 at itteration 66\n",
      "Length of matches whith ID: 66 is : 8\n",
      "Len of matches: 1540 at itteration 67\n",
      "Length of matches whith ID: 67 is : 8\n",
      "Len of matches: 1547 at itteration 68\n",
      "Length of matches whith ID: 68 is : 9\n",
      "Len of matches: 1556 at itteration 69\n",
      "Length of matches whith ID: 69 is : 26\n",
      "Len of matches: 1582 at itteration 70\n",
      "Length of matches whith ID: 70 is : 45\n",
      "Len of matches: 1626 at itteration 71\n",
      "Length of matches whith ID: 71 is : 34\n",
      "Len of matches: 1659 at itteration 72\n",
      "Length of matches whith ID: 72 is : 11\n",
      "Len of matches: 1670 at itteration 73\n",
      "Length of matches whith ID: 73 is : 49\n",
      "Len of matches: 1719 at itteration 74\n",
      "Length of matches whith ID: 74 is : 8\n",
      "Len of matches: 1727 at itteration 75\n",
      "Length of matches whith ID: 75 is : 50\n",
      "Len of matches: 1775 at itteration 76\n",
      "Length of matches whith ID: 76 is : 44\n",
      "Len of matches: 1817 at itteration 77\n",
      "Length of matches whith ID: 77 is : 51\n",
      "Len of matches: 1868 at itteration 78\n",
      "Length of matches whith ID: 78 is : 12\n",
      "Len of matches: 1880 at itteration 79\n",
      "Length of matches whith ID: 79 is : 10\n",
      "Len of matches: 1890 at itteration 80\n",
      "Length of matches whith ID: 80 is : 29\n",
      "Len of matches: 1919 at itteration 81\n",
      "Length of matches whith ID: 81 is : 38\n",
      "Len of matches: 1955 at itteration 82\n",
      "Length of matches whith ID: 82 is : 20\n",
      "Len of matches: 1975 at itteration 83\n",
      "Length of matches whith ID: 83 is : 78\n",
      "Len of matches: 2050 at itteration 84\n",
      "Length of matches whith ID: 84 is : 22\n",
      "Len of matches: 2072 at itteration 85\n",
      "Length of matches whith ID: 85 is : 16\n",
      "Len of matches: 2087 at itteration 86\n",
      "Length of matches whith ID: 86 is : 35\n",
      "Len of matches: 2122 at itteration 87\n",
      "Length of matches whith ID: 87 is : 5\n",
      "Len of matches: 2127 at itteration 88\n",
      "Length of matches whith ID: 88 is : 19\n",
      "Len of matches: 2144 at itteration 89\n",
      "Length of matches whith ID: 89 is : 4\n",
      "Len of matches: 2148 at itteration 90\n",
      "Length of matches whith ID: 90 is : 12\n",
      "Len of matches: 2160 at itteration 91\n",
      "Length of matches whith ID: 91 is : 17\n",
      "Len of matches: 2177 at itteration 92\n",
      "Length of matches whith ID: 92 is : 6\n",
      "Len of matches: 2183 at itteration 93\n",
      "Length of matches whith ID: 93 is : 20\n",
      "Len of matches: 2201 at itteration 94\n",
      "Length of matches whith ID: 94 is : 9\n",
      "Len of matches: 2209 at itteration 95\n",
      "Length of matches whith ID: 95 is : 13\n",
      "Len of matches: 2222 at itteration 96\n",
      "Length of matches whith ID: 96 is : 11\n",
      "Len of matches: 2233 at itteration 97\n",
      "Length of matches whith ID: 97 is : 7\n",
      "Len of matches: 2240 at itteration 98\n",
      "Length of matches whith ID: 98 is : 14\n",
      "Len of matches: 2253 at itteration 99\n",
      "Length of matches whith ID: 99 is : 19\n",
      "Len of matches: 2270 at itteration 100\n",
      "Length of matches whith ID: 100 is : 12\n",
      "Len of matches: 2279 at itteration 101\n",
      "Length of matches whith ID: 101 is : 19\n",
      "Len of matches: 2297 at itteration 102\n",
      "Length of matches whith ID: 102 is : 8\n",
      "Len of matches: 2305 at itteration 103\n",
      "Length of matches whith ID: 103 is : 7\n",
      "Len of matches: 2312 at itteration 104\n",
      "Length of matches whith ID: 104 is : 77\n",
      "Len of matches: 2388 at itteration 105\n",
      "Length of matches whith ID: 105 is : 68\n",
      "Len of matches: 2446 at itteration 106\n",
      "Length of matches whith ID: 106 is : 11\n",
      "Len of matches: 2457 at itteration 107\n"
     ]
    },
    {
     "name": "stdout",
     "output_type": "stream",
     "text": [
      "Length of matches whith ID: 107 is : 10\n",
      "Len of matches: 2467 at itteration 108\n",
      "Length of matches whith ID: 108 is : 47\n",
      "Len of matches: 2514 at itteration 109\n",
      "Length of matches whith ID: 109 is : 14\n",
      "Len of matches: 2528 at itteration 110\n",
      "Length of matches whith ID: 110 is : 8\n",
      "Len of matches: 2533 at itteration 111\n",
      "Length of matches whith ID: 111 is : 37\n",
      "Len of matches: 2569 at itteration 112\n",
      "Length of matches whith ID: 112 is : 10\n",
      "Len of matches: 2578 at itteration 113\n",
      "Length of matches whith ID: 113 is : 7\n",
      "Len of matches: 2585 at itteration 114\n",
      "Length of matches whith ID: 114 is : 15\n",
      "Len of matches: 2600 at itteration 115\n",
      "Length of matches whith ID: 115 is : 100\n",
      "Len of matches: 2600 at itteration 116\n",
      "Length of matches whith ID: 116 is : 100\n",
      "Len of matches: 2600 at itteration 117\n",
      "Length of matches whith ID: 117 is : 100\n",
      "Len of matches: 2600 at itteration 118\n",
      "Length of matches whith ID: 118 is : 100\n",
      "Len of matches: 2600 at itteration 119\n",
      "Length of matches whith ID: 119 is : 5\n",
      "Len of matches: 2605 at itteration 120\n",
      "Length of matches whith ID: 120 is : 2\n",
      "Len of matches: 2607 at itteration 121\n",
      "Length of matches whith ID: 121 is : 2\n",
      "Len of matches: 2609 at itteration 122\n",
      "Length of matches whith ID: 122 is : 100\n",
      "Len of matches: 2609 at itteration 123\n",
      "Length of matches whith ID: 123 is : 100\n",
      "Len of matches: 2609 at itteration 124\n",
      "Length of matches whith ID: 124 is : 100\n",
      "Len of matches: 2609 at itteration 125\n",
      "Length of matches whith ID: 125 is : 100\n",
      "Len of matches: 2609 at itteration 126\n",
      "ERROR WITH ID: 126\n",
      "Length of matches whith ID: 126 is : 100\n",
      "Len of matches: 2609 at itteration 127\n",
      "ERROR WITH ID: 127\n",
      "Length of matches whith ID: 127 is : 100\n",
      "Len of matches: 2609 at itteration 128\n",
      "ERROR WITH ID: 128\n",
      "Length of matches whith ID: 128 is : 100\n"
     ]
    }
   ],
   "source": [
    "matches = set()\n",
    "#129 because the highest hero ID is 129\n",
    "for i in range (129):\n",
    "    print('Len of matches: ' + str(len(matches))+ ' before itteration ' + str(i))\n",
    "    id = 'https://api.steampowered.com/IDOTA2Match_570/GetMatchHistory/V001/?key='+ apiKey\\\n",
    "    +'&hero_id=' + str(i)\\\n",
    "    +'&game_mode=1'\\\n",
    "    +'&matches_requested=100&account_id='+ accountID\\\n",
    "    +'&min_players=10'\n",
    "    try:\n",
    "        #errors out when it gets to a character I haven't played\n",
    "        table = pd.DataFrame(pd.read_json(id).loc['matches']['result'])\n",
    "        match_list = table['match_id'].to_list()\n",
    "    except: \n",
    "        print('ERROR WITH ID: ' + str(i))\n",
    "    print('   Length of matches with ID: '+str(i)+' is : '+str(len(match_list)))\n",
    "    for match in match_list:\n",
    "        matches.add(match)"
   ]
  },
  {
   "cell_type": "code",
   "execution_count": 13,
   "metadata": {},
   "outputs": [
    {
     "data": {
      "text/plain": [
       "2609"
      ]
     },
     "execution_count": 13,
     "metadata": {},
     "output_type": "execute_result"
    }
   ],
   "source": [
    "len(matches)"
   ]
  },
  {
   "cell_type": "code",
   "execution_count": 23,
   "metadata": {},
   "outputs": [
    {
     "data": {
      "text/plain": [
       "True"
      ]
     },
     "execution_count": 23,
     "metadata": {},
     "output_type": "execute_result"
    }
   ],
   "source": [
    "5643292321 in matches"
   ]
  },
  {
   "cell_type": "code",
   "execution_count": 33,
   "metadata": {},
   "outputs": [],
   "source": [
    "# a bit too high, this needs to be adjusted to not include event games"
   ]
  },
  {
   "cell_type": "code",
   "execution_count": 37,
   "metadata": {},
   "outputs": [],
   "source": [
    "m = 5643292321\n",
    "\n",
    "initialURL = 'https://api.steampowered.com/IDOTA2Match_570/GetMatchDetails/V001/'\n",
    "match = pd.read_json(initialURL + '?match_id={}&key=0F68F5F96EC6CC04C40F0A28024E20C0'.format(m))\n",
    "vals = pd.DataFrame(match.loc['players']['result']).set_index('account_id').loc[96887717]"
   ]
  },
  {
   "cell_type": "code",
   "execution_count": 32,
   "metadata": {},
   "outputs": [
    {
     "data": {
      "text/plain": [
       "2307"
      ]
     },
     "execution_count": 32,
     "metadata": {},
     "output_type": "execute_result"
    }
   ],
   "source": [
    "match.loc['duration']['result']"
   ]
  },
  {
   "cell_type": "code",
   "execution_count": 50,
   "metadata": {},
   "outputs": [
    {
     "name": "stdout",
     "output_type": "stream",
     "text": [
      "..........................................................................................Short_game................................................................................................Short_game...................................................................................................................................................................................................................................................................................Short_game..Short_game........................................."
     ]
    }
   ],
   "source": [
    "short_games = 0\n",
    "games_browsed = 0\n",
    "max_games_to_browse = 500\n",
    "short_games_set = set()\n",
    "for m in matches:\n",
    "    initialURL = 'https://api.steampowered.com/IDOTA2Match_570/GetMatchDetails/V001/'\n",
    "    match = pd.read_json(initialURL + '?match_id={}&key=0F68F5F96EC6CC04C40F0A28024E20C0'.format(m))\n",
    "    # vals = pd.DataFrame(match.loc['players']['result']).set_index('account_id').loc[96887717]\n",
    "    if match.loc['duration']['result'] < 600:\n",
    "        short_games += 1\n",
    "        print('Short_game', end = '.')\n",
    "        short_games_set.add(m)\n",
    "    games_browsed += 1\n",
    "    if games_browsed > max_games_to_browse:\n",
    "        break\n",
    "    print('', end = '.')\n",
    "    "
   ]
  },
  {
   "cell_type": "code",
   "execution_count": 51,
   "metadata": {},
   "outputs": [
    {
     "data": {
      "text/plain": [
       "4"
      ]
     },
     "execution_count": 51,
     "metadata": {},
     "output_type": "execute_result"
    }
   ],
   "source": [
    "short_games"
   ]
  },
  {
   "cell_type": "markdown",
   "metadata": {},
   "source": [
    "#### After looking in every single game, to see if the extra 200 games I shouldn't be seeing were 'abandoned' games (games that never) finished, I only found 18 'abandoned' games. So I still not sure where these extra games are comming from\n",
    "\n",
    "At the time of wriing this:\n",
    "- The API is returning **2,609** games.\n",
    "- Other third party sites say I have **2,367** games and another says **2,388**\n",
    "- The dotain-game client says I have **2,558**\n",
    "\n",
    "### Moral?\n",
    "- The data is messy and confusing (as usual)\n",
    "- I will need to do more cleaning when I parse all the match data from every single game (before I was just getting match ID's and durations"
   ]
  },
  {
   "cell_type": "code",
   "execution_count": 47,
   "metadata": {},
   "outputs": [
    {
     "data": {
      "text/plain": [
       "2"
      ]
     },
     "execution_count": 47,
     "metadata": {},
     "output_type": "execute_result"
    }
   ],
   "source": [
    "short_games"
   ]
  },
  {
   "cell_type": "code",
   "execution_count": 48,
   "metadata": {},
   "outputs": [
    {
     "data": {
      "text/plain": [
       "{1932157245, 4955628114}"
      ]
     },
     "execution_count": 48,
     "metadata": {},
     "output_type": "execute_result"
    }
   ],
   "source": [
    "short_games_set"
   ]
  },
  {
   "cell_type": "code",
   "execution_count": null,
   "metadata": {},
   "outputs": [],
   "source": []
  }
 ],
 "metadata": {
  "kernelspec": {
   "display_name": "Python 3",
   "language": "python",
   "name": "python3"
  },
  "language_info": {
   "codemirror_mode": {
    "name": "ipython",
    "version": 3
   },
   "file_extension": ".py",
   "mimetype": "text/x-python",
   "name": "python",
   "nbconvert_exporter": "python",
   "pygments_lexer": "ipython3",
   "version": "3.7.6"
  }
 },
 "nbformat": 4,
 "nbformat_minor": 4
}
