{
 "cells": [
  {
   "cell_type": "code",
   "execution_count": 1,
   "metadata": {},
   "outputs": [
    {
     "name": "stdout",
     "output_type": "stream",
     "text": [
      "03/25/2021\n"
     ]
    }
   ],
   "source": [
    "import pandas as pd\n",
    "from datetime import datetime\n",
    "\n",
    "# datetime object containing current date and time\n",
    "now = datetime.now()\n",
    "dt_string = now.strftime(\"%m/%d/%Y\")\n",
    "print(dt_string)"
   ]
  },
  {
   "cell_type": "code",
   "execution_count": 2,
   "metadata": {},
   "outputs": [
    {
     "name": "stdout",
     "output_type": "stream",
     "text": [
      "current rank: 11\n"
     ]
    }
   ],
   "source": [
    "# read the top users from UCSD team\n",
    "users = pd.read_json('https://stats.foldingathome.org/api/team/3103')['donors']\n",
    "data = pd.DataFrame(users.to_list())\n",
    "rank = data[data['name'] == 'dylannelson'].index[0]\n",
    "print('current rank: ' + str(rank))"
   ]
  },
  {
   "cell_type": "code",
   "execution_count": 3,
   "metadata": {},
   "outputs": [
    {
     "data": {
      "text/html": [
       "<div>\n",
       "<style scoped>\n",
       "    .dataframe tbody tr th:only-of-type {\n",
       "        vertical-align: middle;\n",
       "    }\n",
       "\n",
       "    .dataframe tbody tr th {\n",
       "        vertical-align: top;\n",
       "    }\n",
       "\n",
       "    .dataframe thead th {\n",
       "        text-align: right;\n",
       "    }\n",
       "</style>\n",
       "<table border=\"1\" class=\"dataframe\">\n",
       "  <thead>\n",
       "    <tr style=\"text-align: right;\">\n",
       "      <th></th>\n",
       "      <th>wus</th>\n",
       "      <th>name</th>\n",
       "      <th>rank</th>\n",
       "      <th>credit</th>\n",
       "      <th>team</th>\n",
       "      <th>id</th>\n",
       "    </tr>\n",
       "  </thead>\n",
       "  <tbody>\n",
       "    <tr>\n",
       "      <th>0</th>\n",
       "      <td>2488</td>\n",
       "      <td>Chord</td>\n",
       "      <td>10070.0</td>\n",
       "      <td>177149515</td>\n",
       "      <td>3103</td>\n",
       "      <td>354826760</td>\n",
       "    </tr>\n",
       "    <tr>\n",
       "      <th>1</th>\n",
       "      <td>34036</td>\n",
       "      <td>Jtu89</td>\n",
       "      <td>13138.0</td>\n",
       "      <td>139909891</td>\n",
       "      <td>3103</td>\n",
       "      <td>104459</td>\n",
       "    </tr>\n",
       "    <tr>\n",
       "      <th>2</th>\n",
       "      <td>432</td>\n",
       "      <td>TanerH</td>\n",
       "      <td>51536.0</td>\n",
       "      <td>24336545</td>\n",
       "      <td>3103</td>\n",
       "      <td>1667330</td>\n",
       "    </tr>\n",
       "    <tr>\n",
       "      <th>3</th>\n",
       "      <td>2387</td>\n",
       "      <td>Tillamook.Bill</td>\n",
       "      <td>58371.0</td>\n",
       "      <td>20338899</td>\n",
       "      <td>3103</td>\n",
       "      <td>107119796</td>\n",
       "    </tr>\n",
       "    <tr>\n",
       "      <th>4</th>\n",
       "      <td>365</td>\n",
       "      <td>Braeburn</td>\n",
       "      <td>64902.0</td>\n",
       "      <td>17092106</td>\n",
       "      <td>3103</td>\n",
       "      <td>69592644</td>\n",
       "    </tr>\n",
       "    <tr>\n",
       "      <th>5</th>\n",
       "      <td>797</td>\n",
       "      <td>keyboard_slap</td>\n",
       "      <td>74465.0</td>\n",
       "      <td>7835369</td>\n",
       "      <td>3103</td>\n",
       "      <td>25522283</td>\n",
       "    </tr>\n",
       "    <tr>\n",
       "      <th>6</th>\n",
       "      <td>794</td>\n",
       "      <td>AyyLmao</td>\n",
       "      <td>106640.0</td>\n",
       "      <td>7109456</td>\n",
       "      <td>3103</td>\n",
       "      <td>247179</td>\n",
       "    </tr>\n",
       "    <tr>\n",
       "      <th>7</th>\n",
       "      <td>208</td>\n",
       "      <td>TheUnsmilingCat</td>\n",
       "      <td>87081.0</td>\n",
       "      <td>6638728</td>\n",
       "      <td>3103</td>\n",
       "      <td>265731</td>\n",
       "    </tr>\n",
       "    <tr>\n",
       "      <th>8</th>\n",
       "      <td>77</td>\n",
       "      <td>apcopeland</td>\n",
       "      <td>130477.0</td>\n",
       "      <td>4914087</td>\n",
       "      <td>3103</td>\n",
       "      <td>417451162</td>\n",
       "    </tr>\n",
       "    <tr>\n",
       "      <th>9</th>\n",
       "      <td>425</td>\n",
       "      <td>MilesLab</td>\n",
       "      <td>136857.0</td>\n",
       "      <td>4450332</td>\n",
       "      <td>3103</td>\n",
       "      <td>361746209</td>\n",
       "    </tr>\n",
       "    <tr>\n",
       "      <th>10</th>\n",
       "      <td>144</td>\n",
       "      <td>Zayd</td>\n",
       "      <td>140639.0</td>\n",
       "      <td>3782088</td>\n",
       "      <td>3103</td>\n",
       "      <td>1757534</td>\n",
       "    </tr>\n",
       "    <tr>\n",
       "      <th>11</th>\n",
       "      <td>34</td>\n",
       "      <td>dylannelson</td>\n",
       "      <td>169056.0</td>\n",
       "      <td>2786669</td>\n",
       "      <td>3103</td>\n",
       "      <td>374433093</td>\n",
       "    </tr>\n",
       "  </tbody>\n",
       "</table>\n",
       "</div>"
      ],
      "text/plain": [
       "      wus             name      rank     credit  team         id\n",
       "0    2488            Chord   10070.0  177149515  3103  354826760\n",
       "1   34036            Jtu89   13138.0  139909891  3103     104459\n",
       "2     432           TanerH   51536.0   24336545  3103    1667330\n",
       "3    2387   Tillamook.Bill   58371.0   20338899  3103  107119796\n",
       "4     365         Braeburn   64902.0   17092106  3103   69592644\n",
       "5     797    keyboard_slap   74465.0    7835369  3103   25522283\n",
       "6     794          AyyLmao  106640.0    7109456  3103     247179\n",
       "7     208  TheUnsmilingCat   87081.0    6638728  3103     265731\n",
       "8      77       apcopeland  130477.0    4914087  3103  417451162\n",
       "9     425         MilesLab  136857.0    4450332  3103  361746209\n",
       "10    144             Zayd  140639.0    3782088  3103    1757534\n",
       "11     34      dylannelson  169056.0    2786669  3103  374433093"
      ]
     },
     "execution_count": 3,
     "metadata": {},
     "output_type": "execute_result"
    }
   ],
   "source": [
    "data.head(rank+1)"
   ]
  },
  {
   "cell_type": "code",
   "execution_count": 4,
   "metadata": {},
   "outputs": [
    {
     "data": {
      "text/plain": [
       "wus             34.0\n",
       "rank              11\n",
       "credit     2786669.0\n",
       "team          3103.0\n",
       "date      03/25/2021\n",
       "Name: 11, dtype: object"
      ]
     },
     "execution_count": 4,
     "metadata": {},
     "output_type": "execute_result"
    }
   ],
   "source": [
    "current_data = data[['wus', 'rank', 'credit', 'team']].loc[rank]\n",
    "current_data['date'] = dt_string\n",
    "current_data['rank'] = current_data.name\n",
    "current_data"
   ]
  },
  {
   "cell_type": "code",
   "execution_count": 6,
   "metadata": {},
   "outputs": [
    {
     "data": {
      "text/html": [
       "<div>\n",
       "<style scoped>\n",
       "    .dataframe tbody tr th:only-of-type {\n",
       "        vertical-align: middle;\n",
       "    }\n",
       "\n",
       "    .dataframe tbody tr th {\n",
       "        vertical-align: top;\n",
       "    }\n",
       "\n",
       "    .dataframe thead th {\n",
       "        text-align: right;\n",
       "    }\n",
       "</style>\n",
       "<table border=\"1\" class=\"dataframe\">\n",
       "  <thead>\n",
       "    <tr style=\"text-align: right;\">\n",
       "      <th></th>\n",
       "      <th>wus</th>\n",
       "      <th>rank</th>\n",
       "      <th>credit</th>\n",
       "      <th>team</th>\n",
       "      <th>date</th>\n",
       "    </tr>\n",
       "  </thead>\n",
       "  <tbody>\n",
       "    <tr>\n",
       "      <th>0</th>\n",
       "      <td>12.0</td>\n",
       "      <td>21</td>\n",
       "      <td>454930.0</td>\n",
       "      <td>3103.0</td>\n",
       "      <td>10/13/2020</td>\n",
       "    </tr>\n",
       "    <tr>\n",
       "      <th>1</th>\n",
       "      <td>17.0</td>\n",
       "      <td>13</td>\n",
       "      <td>1009351.0</td>\n",
       "      <td>3103.0</td>\n",
       "      <td>10/14/2020</td>\n",
       "    </tr>\n",
       "    <tr>\n",
       "      <th>2</th>\n",
       "      <td>22.0</td>\n",
       "      <td>9</td>\n",
       "      <td>1471051.0</td>\n",
       "      <td>3103.0</td>\n",
       "      <td>10/15/2020</td>\n",
       "    </tr>\n",
       "    <tr>\n",
       "      <th>11</th>\n",
       "      <td>34.0</td>\n",
       "      <td>11</td>\n",
       "      <td>2786669.0</td>\n",
       "      <td>3103.0</td>\n",
       "      <td>03/25/2021</td>\n",
       "    </tr>\n",
       "  </tbody>\n",
       "</table>\n",
       "</div>"
      ],
      "text/plain": [
       "     wus  rank     credit    team        date\n",
       "0   12.0    21   454930.0  3103.0  10/13/2020\n",
       "1   17.0    13  1009351.0  3103.0  10/14/2020\n",
       "2   22.0     9  1471051.0  3103.0  10/15/2020\n",
       "11  34.0    11  2786669.0  3103.0  03/25/2021"
      ]
     },
     "execution_count": 6,
     "metadata": {},
     "output_type": "execute_result"
    }
   ],
   "source": [
    "## Updating 'records.csv'\n",
    "records = pd.read_csv('records.csv')\n",
    "#if the current date already has a record...\n",
    "same_dates = records['date'] == current_data['date']\n",
    "if (same_dates).sum():\n",
    "    #replace it with the newer record\n",
    "    records.drop(same_dates.index, axis = 0)\n",
    "    records.append(current_data)\n",
    "else:\n",
    "    records = records.append(current_data)\n",
    "records"
   ]
  },
  {
   "cell_type": "code",
   "execution_count": 7,
   "metadata": {},
   "outputs": [],
   "source": [
    "# Update the Table\n",
    "records.to_csv('records.csv', index = False)"
   ]
  },
  {
   "cell_type": "markdown",
   "metadata": {},
   "source": [
    "## EDA"
   ]
  },
  {
   "cell_type": "code",
   "execution_count": 8,
   "metadata": {},
   "outputs": [
    {
     "data": {
      "text/plain": [
       "<AxesSubplot:>"
      ]
     },
     "execution_count": 8,
     "metadata": {},
     "output_type": "execute_result"
    },
    {
     "data": {
      "image/png": "[encoded data removed]",
      "text/plain": [
       "<Figure size 432x288 with 1 Axes>"
      ]
     },
     "metadata": {
      "needs_background": "light"
     },
     "output_type": "display_data"
    }
   ],
   "source": [
    "# Distribution of top dontators\n",
    "users = pd.read_json('https://stats.foldingathome.org/api/donors')['results']\n",
    "data = pd.DataFrame(users.to_list())\n",
    "data['credit'].plot()"
   ]
  },
  {
   "cell_type": "code",
   "execution_count": 16,
   "metadata": {},
   "outputs": [
    {
     "data": {
      "text/html": [
       "<div>\n",
       "<style scoped>\n",
       "    .dataframe tbody tr th:only-of-type {\n",
       "        vertical-align: middle;\n",
       "    }\n",
       "\n",
       "    .dataframe tbody tr th {\n",
       "        vertical-align: top;\n",
       "    }\n",
       "\n",
       "    .dataframe thead th {\n",
       "        text-align: right;\n",
       "    }\n",
       "</style>\n",
       "<table border=\"1\" class=\"dataframe\">\n",
       "  <thead>\n",
       "    <tr style=\"text-align: right;\">\n",
       "      <th></th>\n",
       "      <th>name</th>\n",
       "      <th>rank</th>\n",
       "      <th>credit</th>\n",
       "    </tr>\n",
       "  </thead>\n",
       "  <tbody>\n",
       "    <tr>\n",
       "      <th>0</th>\n",
       "      <td>Anonymous</td>\n",
       "      <td>1</td>\n",
       "      <td>1985970140990</td>\n",
       "    </tr>\n",
       "    <tr>\n",
       "      <th>1</th>\n",
       "      <td>NVIDIA_Saturn_V</td>\n",
       "      <td>2</td>\n",
       "      <td>385772043308</td>\n",
       "    </tr>\n",
       "    <tr>\n",
       "      <th>2</th>\n",
       "      <td>Ytl</td>\n",
       "      <td>3</td>\n",
       "      <td>103182206774</td>\n",
       "    </tr>\n",
       "    <tr>\n",
       "      <th>3</th>\n",
       "      <td>GuillaumeSmaha</td>\n",
       "      <td>4</td>\n",
       "      <td>66982552980</td>\n",
       "    </tr>\n",
       "    <tr>\n",
       "      <th>4</th>\n",
       "      <td>Hou5e_ALL_15k84jUoNPb1kodGvYtKDHiBPRX4Qs3kx8</td>\n",
       "      <td>5</td>\n",
       "      <td>66044302483</td>\n",
       "    </tr>\n",
       "  </tbody>\n",
       "</table>\n",
       "</div>"
      ],
      "text/plain": [
       "                                           name  rank         credit\n",
       "0                                     Anonymous     1  1985970140990\n",
       "1                               NVIDIA_Saturn_V     2   385772043308\n",
       "2                                           Ytl     3   103182206774\n",
       "3                                GuillaumeSmaha     4    66982552980\n",
       "4  Hou5e_ALL_15k84jUoNPb1kodGvYtKDHiBPRX4Qs3kx8     5    66044302483"
      ]
     },
     "execution_count": 16,
     "metadata": {},
     "output_type": "execute_result"
    }
   ],
   "source": [
    "data[['name','rank','credit']].head()"
   ]
  },
  {
   "cell_type": "code",
   "execution_count": 13,
   "metadata": {},
   "outputs": [
    {
     "data": {
      "text/plain": [
       "<AxesSubplot:>"
      ]
     },
     "execution_count": 13,
     "metadata": {},
     "output_type": "execute_result"
    },
    {
     "data": {
      "image/png": "[encoded data removed]",
      "text/plain": [
       "<Figure size 432x288 with 1 Axes>"
      ]
     },
     "metadata": {
      "needs_background": "light"
     },
     "output_type": "display_data"
    }
   ],
   "source": [
    "# Distribution of top 100 users poins without \"Anonymous\"\n",
    "data.loc[2:99]['credit'].plot()"
   ]
  },
  {
   "cell_type": "code",
   "execution_count": 29,
   "metadata": {},
   "outputs": [
    {
     "name": "stdout",
     "output_type": "stream",
     "text": [
      "99"
     ]
    }
   ],
   "source": [
    "import time\n",
    "for idx in range(100):\n",
    "    time.sleep(.5)\n",
    "    print(\"\\r{0}\".format(idx), end='')"
   ]
  },
  {
   "cell_type": "code",
   "execution_count": null,
   "metadata": {},
   "outputs": [],
   "source": []
  }
 ],
 "metadata": {
  "kernelspec": {
   "display_name": "Python 3",
   "language": "python",
   "name": "python3"
  },
  "language_info": {
   "codemirror_mode": {
    "name": "ipython",
    "version": 3
   },
   "file_extension": ".py",
   "mimetype": "text/x-python",
   "name": "python",
   "nbconvert_exporter": "python",
   "pygments_lexer": "ipython3",
   "version": "3.7.9"
  }
 },
 "nbformat": 4,
 "nbformat_minor": 4
}
