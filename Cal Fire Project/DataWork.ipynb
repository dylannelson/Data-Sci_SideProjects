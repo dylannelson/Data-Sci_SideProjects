{
 "cells": [
  {
   "cell_type": "markdown",
   "metadata": {},
   "source": [
    "# Cal Fire Data"
   ]
  },
  {
   "cell_type": "code",
   "execution_count": 1,
   "metadata": {},
   "outputs": [],
   "source": [
    "import pandas as pd\n",
    "# I'm using the CSV from their site because for whatever reason, their API leads to \n",
    "# a lot more missing data in the latitude and longitude columns. It's full of 0's\n",
    "fires = pd.read_csv('mapdataall.csv')\n",
    "pd.set_option('display.max_columns', None)"
   ]
  },
  {
   "cell_type": "markdown",
   "metadata": {},
   "source": [
    "## Data From Cal Fire, and CSV and API availible at https://www.fire.ca.gov/incidents/"
   ]
  },
  {
   "cell_type": "code",
   "execution_count": 2,
   "metadata": {},
   "outputs": [],
   "source": [
    "years = [int(y[:4]) for y in fires['incident_date_created'].tolist()]"
   ]
  },
  {
   "cell_type": "code",
   "execution_count": 3,
   "metadata": {},
   "outputs": [],
   "source": [
    "fires['year'] = years"
   ]
  },
  {
   "cell_type": "code",
   "execution_count": 4,
   "metadata": {},
   "outputs": [
    {
     "data": {
      "text/plain": [
       "2017    429\n",
       "2018    303\n",
       "2019    263\n",
       "2020    237\n",
       "2016    155\n",
       "2013    141\n",
       "2015     99\n",
       "2014     76\n",
       "1969      2\n",
       "2009      1\n",
       "Name: year, dtype: int64"
      ]
     },
     "execution_count": 4,
     "metadata": {},
     "output_type": "execute_result"
    }
   ],
   "source": [
    "fires['year'].value_counts()"
   ]
  },
  {
   "cell_type": "code",
   "execution_count": 5,
   "metadata": {},
   "outputs": [
    {
     "name": "stdout",
     "output_type": "stream",
     "text": [
      "Number of samples: 1706\n",
      "Number of variables: 24\n",
      "Years accounted for: {2016, 2017, 2018, 2019, 2020, 1969, 2009, 2013, 2014, 2015}\n"
     ]
    }
   ],
   "source": [
    "dimensions = fires.shape\n",
    "print('Number of samples: {}'.format(dimensions[0]))\n",
    "print('Number of variables: {}'.format(dimensions[1]))\n",
    "print('Years accounted for: {}'.format(set(years)))"
   ]
  },
  {
   "cell_type": "markdown",
   "metadata": {},
   "source": [
    "2009 and 1969 don't look right, lets see how many there are of these years"
   ]
  },
  {
   "cell_type": "code",
   "execution_count": 6,
   "metadata": {},
   "outputs": [
    {
     "data": {
      "text/plain": [
       "2017    429\n",
       "2018    303\n",
       "2019    263\n",
       "2020    237\n",
       "2016    155\n",
       "2013    141\n",
       "2015     99\n",
       "2014     76\n",
       "1969      2\n",
       "2009      1\n",
       "Name: year, dtype: int64"
      ]
     },
     "execution_count": 6,
     "metadata": {},
     "output_type": "execute_result"
    }
   ],
   "source": [
    "fires['year'].value_counts()"
   ]
  },
  {
   "cell_type": "markdown",
   "metadata": {},
   "source": [
    "Looks like these are errors, as 2009 and 1996 don't fall in the range of the vast majority of the data.  \n",
    "Going to remove those points for consistency."
   ]
  },
  {
   "cell_type": "code",
   "execution_count": 7,
   "metadata": {},
   "outputs": [],
   "source": [
    "fires = fires[fires['year'] > 2012]"
   ]
  },
  {
   "cell_type": "markdown",
   "metadata": {},
   "source": [
    "## Quick Look at the Data"
   ]
  },
  {
   "cell_type": "code",
   "execution_count": 8,
   "metadata": {},
   "outputs": [
    {
     "data": {
      "text/plain": [
       "<matplotlib.axes._subplots.AxesSubplot at 0x1adf4520908>"
      ]
     },
     "execution_count": 8,
     "metadata": {},
     "output_type": "execute_result"
    },
    {
     "data": {
      "image/png": "[encoded data removed]",
      "text/plain": [
       "<Figure size 432x288 with 1 Axes>"
      ]
     },
     "metadata": {
      "needs_background": "light"
     },
     "output_type": "display_data"
    }
   ],
   "source": [
    "fires['year'].value_counts().sort_index().plot(kind = 'bar')"
   ]
  },
  {
   "cell_type": "code",
   "execution_count": 9,
   "metadata": {},
   "outputs": [
    {
     "data": {
      "text/plain": [
       "<matplotlib.axes._subplots.AxesSubplot at 0x1adf8a51688>"
      ]
     },
     "execution_count": 9,
     "metadata": {},
     "output_type": "execute_result"
    },
    {
     "data": {
      "image/png": "[encoded data removed]",
      "text/plain": [
       "<Figure size 432x288 with 1 Axes>"
      ]
     },
     "metadata": {
      "needs_background": "light"
     },
     "output_type": "display_data"
    }
   ],
   "source": [
    "fires.groupby(['year']).sum()['incident_acres_burned'].plot(kind = 'bar')"
   ]
  },
  {
   "cell_type": "markdown",
   "metadata": {},
   "source": [
    "- 2019 just doesn't look right, there is so little fire compared to the previous and following years. \n",
    "- I manually looked at the data and it just seems as if there were no big fires"
   ]
  },
  {
   "cell_type": "markdown",
   "metadata": {},
   "source": [
    "# Exploring of Variables"
   ]
  },
  {
   "cell_type": "code",
   "execution_count": 10,
   "metadata": {},
   "outputs": [
    {
     "name": "stdout",
     "output_type": "stream",
     "text": [
      "Number of Samples: 1703 \n",
      "Number of Variables: 24\n"
     ]
    }
   ],
   "source": [
    "print('Number of Samples: {} \\nNumber of Variables: {}'.format(fires.shape[0], fires.shape[1]))"
   ]
  },
  {
   "cell_type": "markdown",
   "metadata": {},
   "source": [
    "## Going to drop some columns to make visualizing easier.\n",
    "Reasoning:\n",
    "- *'incident_administrative_unit_url'* is entirely NA\n",
    "- *'incident_dateonly_extinguished'* is just 'incident_date_extinguished' but without a time of day\n",
    "- *'incident_dateonly_created'* is the same as above for 'incident_date_created'  \n",
    "- *'incident_location'* removed *for now*, they are all unique descriptions of where it is relative to other things, not too uselful when we have latitude and longitude\n",
    "- *'incident_control'* seems like just assorted notes. Too few fires have data here as well\n",
    "- *'incident_id'* number seemingly only used when doing lookups on their site.\n",
    "- *'incident_url'* Just a url to the site\n",
    "- *'notification_desired'* Only 1 True value, rest are False"
   ]
  },
  {
   "cell_type": "code",
   "execution_count": 11,
   "metadata": {},
   "outputs": [],
   "source": [
    "fires = fires.drop(['incident_administrative_unit_url','incident_dateonly_extinguished',\\\n",
    "            'incident_dateonly_created','incident_location', 'incident_control',\\\n",
    "           'incident_id','incident_url','notification_desired'], axis = 1)"
   ]
  },
  {
   "cell_type": "code",
   "execution_count": 12,
   "metadata": {},
   "outputs": [
    {
     "data": {
      "text/html": [
       "<div>\n",
       "<style scoped>\n",
       "    .dataframe tbody tr th:only-of-type {\n",
       "        vertical-align: middle;\n",
       "    }\n",
       "\n",
       "    .dataframe tbody tr th {\n",
       "        vertical-align: top;\n",
       "    }\n",
       "\n",
       "    .dataframe thead th {\n",
       "        text-align: right;\n",
       "    }\n",
       "</style>\n",
       "<table border=\"1\" class=\"dataframe\">\n",
       "  <thead>\n",
       "    <tr style=\"text-align: right;\">\n",
       "      <th></th>\n",
       "      <th>incident_name</th>\n",
       "      <th>incident_is_final</th>\n",
       "      <th>incident_date_last_update</th>\n",
       "      <th>incident_date_created</th>\n",
       "      <th>incident_administrative_unit</th>\n",
       "      <th>incident_county</th>\n",
       "      <th>incident_acres_burned</th>\n",
       "      <th>incident_containment</th>\n",
       "      <th>incident_cooperating_agencies</th>\n",
       "      <th>incident_longitude</th>\n",
       "      <th>incident_latitude</th>\n",
       "      <th>incident_type</th>\n",
       "      <th>incident_date_extinguished</th>\n",
       "      <th>is_active</th>\n",
       "      <th>calfire_incident</th>\n",
       "      <th>year</th>\n",
       "    </tr>\n",
       "  </thead>\n",
       "  <tbody>\n",
       "    <tr>\n",
       "      <th>0</th>\n",
       "      <td>Bridge Fire</td>\n",
       "      <td>True</td>\n",
       "      <td>2018-01-09 13:46:00</td>\n",
       "      <td>2017-10-31 11:22:00</td>\n",
       "      <td>Shasta-Trinity National Forest</td>\n",
       "      <td>Shasta</td>\n",
       "      <td>37</td>\n",
       "      <td>100</td>\n",
       "      <td>Shasta-Trinity National Forest</td>\n",
       "      <td>-122.309000</td>\n",
       "      <td>40.774000</td>\n",
       "      <td>NaN</td>\n",
       "      <td>2018-01-09 13:46:00</td>\n",
       "      <td>N</td>\n",
       "      <td>False</td>\n",
       "      <td>2017</td>\n",
       "    </tr>\n",
       "    <tr>\n",
       "      <th>2</th>\n",
       "      <td>River Fire</td>\n",
       "      <td>True</td>\n",
       "      <td>2013-02-28 20:00:00</td>\n",
       "      <td>2013-02-24 08:16:00</td>\n",
       "      <td>CAL FIRE San Bernardino Unit</td>\n",
       "      <td>Inyo</td>\n",
       "      <td>406</td>\n",
       "      <td>100</td>\n",
       "      <td>CAL FIRE San Bernardino Unit, Inyo County Sher...</td>\n",
       "      <td>-118.016510</td>\n",
       "      <td>36.602575</td>\n",
       "      <td>NaN</td>\n",
       "      <td>2013-02-28 20:00:00</td>\n",
       "      <td>N</td>\n",
       "      <td>True</td>\n",
       "      <td>2013</td>\n",
       "    </tr>\n",
       "    <tr>\n",
       "      <th>3</th>\n",
       "      <td>Fawnskin Fire</td>\n",
       "      <td>True</td>\n",
       "      <td>2013-04-22 09:00:00</td>\n",
       "      <td>2013-04-20 17:30:00</td>\n",
       "      <td>San Bernardino National Forest</td>\n",
       "      <td>San Bernardino</td>\n",
       "      <td>30</td>\n",
       "      <td>100</td>\n",
       "      <td>San Bernardino National Forest</td>\n",
       "      <td>-116.941311</td>\n",
       "      <td>34.288877</td>\n",
       "      <td>NaN</td>\n",
       "      <td>2013-04-22 09:00:00</td>\n",
       "      <td>N</td>\n",
       "      <td>False</td>\n",
       "      <td>2013</td>\n",
       "    </tr>\n",
       "  </tbody>\n",
       "</table>\n",
       "</div>"
      ],
      "text/plain": [
       "   incident_name  incident_is_final incident_date_last_update  \\\n",
       "0    Bridge Fire               True       2018-01-09 13:46:00   \n",
       "2     River Fire               True       2013-02-28 20:00:00   \n",
       "3  Fawnskin Fire               True       2013-04-22 09:00:00   \n",
       "\n",
       "  incident_date_created      incident_administrative_unit incident_county  \\\n",
       "0   2017-10-31 11:22:00   Shasta-Trinity National Forest           Shasta   \n",
       "2   2013-02-24 08:16:00      CAL FIRE San Bernardino Unit            Inyo   \n",
       "3   2013-04-20 17:30:00    San Bernardino National Forest  San Bernardino   \n",
       "\n",
       "   incident_acres_burned  incident_containment  \\\n",
       "0                     37                   100   \n",
       "2                    406                   100   \n",
       "3                     30                   100   \n",
       "\n",
       "                       incident_cooperating_agencies  incident_longitude  \\\n",
       "0                    Shasta-Trinity National Forest          -122.309000   \n",
       "2  CAL FIRE San Bernardino Unit, Inyo County Sher...         -118.016510   \n",
       "3                     San Bernardino National Forest         -116.941311   \n",
       "\n",
       "   incident_latitude incident_type incident_date_extinguished is_active  \\\n",
       "0          40.774000           NaN        2018-01-09 13:46:00         N   \n",
       "2          36.602575           NaN        2013-02-28 20:00:00         N   \n",
       "3          34.288877           NaN        2013-04-22 09:00:00         N   \n",
       "\n",
       "   calfire_incident  year  \n",
       "0             False  2017  \n",
       "2              True  2013  \n",
       "3             False  2013  "
      ]
     },
     "execution_count": 12,
     "metadata": {},
     "output_type": "execute_result"
    }
   ],
   "source": [
    "fires.head(3)"
   ]
  },
  {
   "cell_type": "code",
   "execution_count": 13,
   "metadata": {},
   "outputs": [
    {
     "name": "stdout",
     "output_type": "stream",
     "text": [
      "Number of Samples: 1703 \n",
      "Number of Variables: 16\n",
      "\n",
      "\n",
      "   Missingness:\n"
     ]
    },
    {
     "data": {
      "text/plain": [
       "incident_name                       0\n",
       "incident_is_final                   0\n",
       "incident_date_last_update           0\n",
       "incident_date_created               0\n",
       "incident_administrative_unit        9\n",
       "incident_county                    11\n",
       "incident_acres_burned               0\n",
       "incident_containment                0\n",
       "incident_cooperating_agencies     229\n",
       "incident_longitude                  0\n",
       "incident_latitude                   0\n",
       "incident_type                    1218\n",
       "incident_date_extinguished        130\n",
       "is_active                           0\n",
       "calfire_incident                    0\n",
       "year                                0\n",
       "dtype: int64"
      ]
     },
     "execution_count": 13,
     "metadata": {},
     "output_type": "execute_result"
    }
   ],
   "source": [
    "print('Number of Samples: {} \\nNumber of Variables: {}\\n\\n'.format(fires.shape[0], fires.shape[1]))\n",
    "print('   Missingness:')\n",
    "fires.isna().sum(axis = 0)"
   ]
  },
  {
   "cell_type": "markdown",
   "metadata": {},
   "source": [
    "# Missing Data\n",
    "- Exploring where the 'acres burned' is missing\n",
    "    - Mostly in 2020, but a strangely large amount in 2017\n",
    "    - I believe it's just because there is a lot of data for 2017, so naturally a proportional amount is missing"
   ]
  },
  {
   "cell_type": "code",
   "execution_count": 14,
   "metadata": {},
   "outputs": [
    {
     "data": {
      "text/plain": [
       "2020    31\n",
       "2017    14\n",
       "2016     4\n",
       "2019     2\n",
       "2018     2\n",
       "2013     2\n",
       "2015     1\n",
       "2014     1\n",
       "Name: year, dtype: int64"
      ]
     },
     "execution_count": 14,
     "metadata": {},
     "output_type": "execute_result"
    }
   ],
   "source": [
    "# shows the number of missing (zero acre fires) in the data for each year\n",
    "(fires[fires['incident_acres_burned']==0])['year'].value_counts()"
   ]
  },
  {
   "cell_type": "code",
   "execution_count": 15,
   "metadata": {},
   "outputs": [
    {
     "data": {
      "text/plain": [
       "2020    16\n",
       "Name: year, dtype: int64"
      ]
     },
     "execution_count": 15,
     "metadata": {},
     "output_type": "execute_result"
    }
   ],
   "source": [
    "missing_burns = fires[fires['incident_acres_burned']==0]\n",
    "missing_burns[missing_burns['is_active'] == 'Y']['year'].value_counts()"
   ]
  },
  {
   "cell_type": "markdown",
   "metadata": {},
   "source": [
    "- Shows that most of the missing 2020 data is because the fire is still going\n",
    "\n",
    "Below shows the top 100 fires by acres burned. It seems like 2019 just didn't have mnay big fires, whereas all the other years did"
   ]
  },
  {
   "cell_type": "code",
   "execution_count": 16,
   "metadata": {},
   "outputs": [
    {
     "data": {
      "text/plain": [
       "2017    29\n",
       "2018    17\n",
       "2020    16\n",
       "2013    10\n",
       "2016     8\n",
       "2019     7\n",
       "2015     7\n",
       "2014     6\n",
       "Name: year, dtype: int64"
      ]
     },
     "execution_count": 16,
     "metadata": {},
     "output_type": "execute_result"
    }
   ],
   "source": [
    "fires[['incident_name','incident_acres_burned','year']]\\\n",
    ".sort_values('incident_acres_burned', ascending = False)\\\n",
    ".reset_index(drop = True).iloc[:100]['year'].value_counts()"
   ]
  },
  {
   "cell_type": "markdown",
   "metadata": {},
   "source": [
    "## What's happening in 2019?\n",
    "This graph is similar to the bar graph, but allows every point to be seen, organized by days since records started\n",
    "- This allows it to continue to be chronological\n",
    "* Pandas has issues sorting by date so this was needed\n",
    "- Helps show that there wasn't a lack of data in the 2019 range, but just a lack of large fires"
   ]
  },
  {
   "cell_type": "code",
   "execution_count": 17,
   "metadata": {},
   "outputs": [
    {
     "data": {
      "text/plain": [
       "<matplotlib.axes._subplots.AxesSubplot at 0x1adf8aecd48>"
      ]
     },
     "execution_count": 17,
     "metadata": {},
     "output_type": "execute_result"
    },
    {
     "data": {
      "image/png": "[encoded data removed]",
      "text/plain": [
       "<Figure size 432x288 with 1 Axes>"
      ]
     },
     "metadata": {
      "needs_background": "light"
     },
     "output_type": "display_data"
    }
   ],
   "source": [
    "fires.loc[:,'start_date'] = pd.to_datetime(fires['incident_date_created'])-pd.to_datetime(fires['incident_date_created']).min()\n",
    "fires.loc[:,'start_date'] = fires['start_date'].apply(lambda x: x.days)\n",
    "fires[['start_date', 'incident_acres_burned']].plot(kind = 'scatter', x = 'start_date', y= 'incident_acres_burned')"
   ]
  },
  {
   "cell_type": "markdown",
   "metadata": {},
   "source": [
    "There are holes though, and consistently through the data. I imagine this is because of winter/spring where fires would be harder to start, but lets see"
   ]
  },
  {
   "cell_type": "code",
   "execution_count": 18,
   "metadata": {},
   "outputs": [],
   "source": [
    "fires['month'] = [int(y[5:7]) for y in fires['incident_date_created'].tolist()]\n",
    "monthDict={1:'Jan', 2:'Feb', 3:'Mar', 4:'Apr', 5:'May', 6:'Jun', 7:'Jul', 8:'Aug', 9:'Sep', 10:'Oct', 11:'Nov', 12:'Dec'}"
   ]
  },
  {
   "cell_type": "code",
   "execution_count": 19,
   "metadata": {},
   "outputs": [
    {
     "data": {
      "text/plain": [
       "<matplotlib.axes._subplots.AxesSubplot at 0x1adf766be48>"
      ]
     },
     "execution_count": 19,
     "metadata": {},
     "output_type": "execute_result"
    },
    {
     "data": {
      "image/png": "[encoded data removed]",
      "text/plain": [
       "<Figure size 432x288 with 1 Axes>"
      ]
     },
     "metadata": {
      "needs_background": "light"
     },
     "output_type": "display_data"
    }
   ],
   "source": [
    "pd.Series(data = fires['month'].value_counts(sort = False).to_list(), index = monthDict.values()).plot(kind = 'bar')"
   ]
  },
  {
   "cell_type": "markdown",
   "metadata": {},
   "source": [
    "### Holes in data?\n",
    "The holes make sense, and they are just as I expected\n",
    "- Frome November to April, there are basically no fires.\n",
    "- This explains the seemingly empty spots in the graph before this one \n",
    "- There just aren't really any fires in winter or spring"
   ]
  },
  {
   "cell_type": "markdown",
   "metadata": {},
   "source": [
    "## Missing Data Conclusion\n",
    "- Seems like it just be that 2019 didn't have many big fires\n",
    "    - Since there is a consistent *amount* of samples in that time, it doesn't seem like the lack of large fires is due to missingness\n",
    "    - Because of this I don't think I should do any data imputation\n",
    "- The holes in the data can be explained, there just aren't really fires in the spring/winter\n",
    "    - Pretty interesting how the data is actually pretty normalized  \n",
    "\n",
    "<br>\n",
    "<br>\n",
    "<b>Another interesting point:</b>  <br>\n",
    "I tried using both the downloadable CSV from the CalFires page, and also the API, but..."
   ]
  },
  {
   "cell_type": "markdown",
   "metadata": {},
   "source": [
    "This basically shows the missingness of the coordinates of the fires. Given that there are no NAN values, and they are basically all unique, it doesn't seem like there is any missing data. **CSV has no missing coordinate data**"
   ]
  },
  {
   "cell_type": "code",
   "execution_count": 20,
   "metadata": {},
   "outputs": [
    {
     "data": {
      "text/plain": [
       "-118.551000    2\n",
       "-116.866300    2\n",
       "-120.553075    2\n",
       "-120.005210    2\n",
       "-122.527500    2\n",
       "              ..\n",
       "-121.786770    1\n",
       "-120.452330    1\n",
       "-120.452041    1\n",
       "-118.704430    1\n",
       "-122.000000    1\n",
       "Name: incident_longitude, Length: 1689, dtype: int64"
      ]
     },
     "execution_count": 20,
     "metadata": {},
     "output_type": "execute_result"
    }
   ],
   "source": [
    "fires['incident_longitude'].value_counts()"
   ]
  },
  {
   "cell_type": "markdown",
   "metadata": {},
   "source": [
    "**Meanwhile** with the json file from the API, we see that 804 of the 1695 data points are all 0 (at least when I am checking) so **half of the JSON coordinate data is missing**"
   ]
  },
  {
   "cell_type": "code",
   "execution_count": 21,
   "metadata": {},
   "outputs": [
    {
     "data": {
      "text/plain": [
       " 0.000000      804\n",
       "-120.005210      2\n",
       "-120.553075      2\n",
       "-119.643000      2\n",
       "-116.941311      2\n",
       "              ... \n",
       "-120.876090      1\n",
       "-119.949740      1\n",
       "-122.851940      1\n",
       "-116.806941      1\n",
       "-122.267360      1\n",
       "Name: Longitude, Length: 1695, dtype: int64"
      ]
     },
     "execution_count": 21,
     "metadata": {},
     "output_type": "execute_result"
    }
   ],
   "source": [
    "api_data = pd.read_json('https://www.fire.ca.gov/umbraco/api/IncidentApi/List?inactive=true')\n",
    "api_data['Longitude'].value_counts()"
   ]
  },
  {
   "cell_type": "code",
   "execution_count": null,
   "metadata": {},
   "outputs": [],
   "source": []
  }
 ],
 "metadata": {
  "kernelspec": {
   "display_name": "Python 3",
   "language": "python",
   "name": "python3"
  },
  "language_info": {
   "codemirror_mode": {
    "name": "ipython",
    "version": 3
   },
   "file_extension": ".py",
   "mimetype": "text/x-python",
   "name": "python",
   "nbconvert_exporter": "python",
   "pygments_lexer": "ipython3",
   "version": "3.7.6"
  }
 },
 "nbformat": 4,
 "nbformat_minor": 4
}
